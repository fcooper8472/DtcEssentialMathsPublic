{
 "cells": [
  {
   "cell_type": "markdown",
   "metadata": {
    "slideshow": {
     "slide_type": "slide"
    }
   },
   "source": [
    "# Lecture 19: Probability 3"
   ]
  },
  {
   "cell_type": "code",
   "execution_count": null,
   "metadata": {
    "slideshow": {
     "slide_type": "skip"
    }
   },
   "outputs": [],
   "source": [
    "import numpy as np\n",
    "import sympy as sp\n",
    "import scipy.integrate\n",
    "sp.init_printing()\n",
    "##################################################\n",
    "##### Matplotlib boilerplate for consistency #####\n",
    "##################################################\n",
    "from ipywidgets import interact\n",
    "from ipywidgets import FloatSlider\n",
    "from matplotlib import pyplot as plt\n",
    "import math\n",
    "\n",
    "%matplotlib inline\n",
    "\n",
    "from IPython.display import set_matplotlib_formats\n",
    "set_matplotlib_formats('svg')\n",
    "\n",
    "global_fig_width = 10\n",
    "global_fig_height = global_fig_width / 1.61803399\n",
    "font_size = 12\n",
    "\n",
    "plt.rcParams['axes.axisbelow'] = True\n",
    "plt.rcParams['axes.edgecolor'] = '0.8'\n",
    "plt.rcParams['axes.grid'] = True\n",
    "plt.rcParams['axes.labelpad'] = 8\n",
    "plt.rcParams['axes.linewidth'] = 2\n",
    "plt.rcParams['axes.titlepad'] = 16.0\n",
    "plt.rcParams['axes.titlesize'] = font_size * 1.4\n",
    "plt.rcParams['figure.figsize'] = (global_fig_width, global_fig_height)\n",
    "plt.rcParams['font.sans-serif'] = ['Computer Modern Sans Serif', 'DejaVu Sans', 'sans-serif']\n",
    "plt.rcParams['font.size'] = font_size\n",
    "plt.rcParams['grid.color'] = '0.8'\n",
    "plt.rcParams['grid.linestyle'] = 'dashed'\n",
    "plt.rcParams['grid.linewidth'] = 2\n",
    "plt.rcParams['lines.dash_capstyle'] = 'round'\n",
    "plt.rcParams['lines.dashed_pattern'] = [1, 4]\n",
    "plt.rcParams['xtick.labelsize'] = font_size\n",
    "plt.rcParams['xtick.major.pad'] = 4\n",
    "plt.rcParams['xtick.major.size'] = 0\n",
    "plt.rcParams['ytick.labelsize'] = font_size\n",
    "plt.rcParams['ytick.major.pad'] = 4\n",
    "plt.rcParams['ytick.major.size'] = 0\n",
    "##################################################"
   ]
  },
  {
   "cell_type": "markdown",
   "metadata": {
    "slideshow": {
     "slide_type": "slide"
    }
   },
   "source": [
    "## Standard distributions\n",
    "\n",
    "- Standard distributions, such as the Normal distribution, give succinct \n",
    "  descriptions of commonly occurring kinds of variation, and hence have well \n",
    "  known properties.\n",
    "- But remember that any function summing/integrating to 1 can also describe a \n",
    "  distribution.\n",
    "\n",
    "<!--Presentation notes: get the audience to think of examples for each \n",
    "distribution, and display histograms/pdfs in Matlab for different parameter \n",
    "values.  Make sure to derive expectation & variance in each case.\n",
    "% TODO: Write a Matlab script for the above!-->"
   ]
  },
  {
   "cell_type": "markdown",
   "metadata": {
    "slideshow": {
     "slide_type": "slide"
    }
   },
   "source": [
    "## Bernoulli\n",
    "\n",
    "An outcome can be either $\\;1\\;$ (\"success\") or $\\;0\\;$ (\"failure\") with probabilities $\\;\\theta\\;$ and $\\;(1-\\theta)\\;$ respectively.\n",
    "\n",
    "- The probability of observing a sequence of $\\;n\\;$ samples with $\\;k\\;$ 1s is $\\;\\theta^k(1-\\theta)^{n-k}$.\n",
    "- The expectation is $\\;\\theta\\;$ and the variance is $\\;\\theta(1-\\theta)$.\n",
    "\n",
    "We write $\\;X\\sim\\text{Bernoulli}(\\theta)\\;$ to say that $\\;X\\;$ has a Bernoulli distribution with parameter $\\;\\theta$."
   ]
  },
  {
   "cell_type": "markdown",
   "metadata": {
    "slideshow": {
     "slide_type": "slide"
    }
   },
   "source": [
    "## Binomial: $\\;X\\sim B(n,\\theta)$\n",
    "\n",
    "Often we don't care about the order in which \"successes\" or \"failures\" happen, just how many there are of each.\n",
    "\n",
    "- The probability of $\\;k\\;$ successes in $\\;n\\;$ Bernoulli trials is given by the **Binomial** distribution.\n",
    "- Each order has the same probability (given by the Bernoulli formula above), \n",
    "  and the number of possible orderings is $\\;_nC_k,\\;$ so\n",
    "\n",
    "$$ P(X=k|n,\\theta) = {n\\choose k}\\theta^k(1-\\theta)^{n-k} = \\frac{n!}{(n-k)!k!}\\theta^k(1-\\theta)^{n-k} $$\n",
    "\n",
    "- The expectation is $\\;n\\theta\\;$ and the variance is $\\;n\\theta(1-\\theta)$."
   ]
  },
  {
   "cell_type": "code",
   "execution_count": null,
   "metadata": {
    "slideshow": {
     "slide_type": "slide"
    }
   },
   "outputs": [],
   "source": [
    "from scipy.stats import binom\n",
    "n = 1000\n",
    "d = binom(100, 0.5)\n",
    "b = np.arange(30, 70)\n",
    "plt.title('Binomial distribution, n=100, p=0.5')\n",
    "plt.hist(d.rvs(n), bins=b, density=True, alpha=0.5,label='sampled')\n",
    "plt.plot(b+0.5, d.pmf(b), label='Ideal');"
   ]
  },
  {
   "cell_type": "markdown",
   "metadata": {
    "slideshow": {
     "slide_type": "slide"
    }
   },
   "source": [
    "## Geometric: $\\;X\\sim\\text{Geom}(\\theta)$\n",
    "\n",
    "- The probability of success in a Bernoulli trial is not influenced by (is \n",
    "  independent of) previous trials; this is known as the **memory-less** property.\n",
    "\n",
    "- The number of trials between subsequent successes, or equivalently the \n",
    "  probability that the first success is on the $\\;k^{\\rm{th}}$ trial, has the \n",
    "  **Geometric** distribution.\n",
    "\n",
    "$$ P(X=k|\\theta) = \\theta(1-\\theta)^{k-1} $$\n",
    "\n",
    "- The expectation is $\\;1/\\theta\\;$ and the variance is $\\;(1-\\theta)/\\theta^2$."
   ]
  },
  {
   "cell_type": "code",
   "execution_count": null,
   "metadata": {
    "slideshow": {
     "slide_type": "slide"
    }
   },
   "outputs": [],
   "source": [
    "from scipy.stats import geom\n",
    "n = 1000\n",
    "d = geom(0.3, loc=-1)\n",
    "b = np.arange(0, 30)\n",
    "plt.title('Geometric distribution (p=0.3)')\n",
    "plt.hist(d.rvs(n), bins=b, density=True, alpha=0.5,label='sampled')\n",
    "plt.plot(b+0.5, d.pmf(b), label='Ideal');"
   ]
  },
  {
   "cell_type": "markdown",
   "metadata": {
    "slideshow": {
     "slide_type": "slide"
    }
   },
   "source": [
    "## Poisson: $\\;X\\sim\\text{Pois}(\\mu)$\n",
    "\n",
    "- This distribution models the number of times an event occurs in a fixed interval of time (and/or space) if these events occur with a known fixed average rate $\\;\\mu\\;$ and independently of the time since the last event.\n",
    "\n",
    "- It is is often used to model \"rare\" events, e.g. the number of deaths per year in a given age group.\n",
    "\n",
    "- It can be derived as the limit of the Binomial distribution as the number of trials increases $\\;(n\\to\\infty)\\;$ but the expectation $\\;\\mu\\;$ is fixed (so $\\;\\theta\\to 0$).\n",
    "\n",
    "$$ P(X=k|\\mu) = \\frac{e^{-\\mu} \\mu^k}{k!} $$\n",
    "\n",
    "- The expectation is $\\;\\mu\\;$ and the variance is also $\\;\\mu$.\n",
    "\n",
    "<!--% TODO: Matlab script should compare Poisson(4) with Binomial(200,0.02) \n",
    "histograms-->"
   ]
  },
  {
   "cell_type": "code",
   "execution_count": null,
   "metadata": {
    "slideshow": {
     "slide_type": "slide"
    }
   },
   "outputs": [],
   "source": [
    "from scipy.stats import poisson\n",
    "n = 1000\n",
    "mu = 40\n",
    "d = poisson(mu)\n",
    "b = np.arange(0, 3*mu)\n",
    "plt.title('Poisson distribution ($\\mu=%d$)'%mu)\n",
    "plt.hist(d.rvs(n), bins=b, density=True, alpha=0.5,label='sampled')\n",
    "plt.plot(b+0.5, d.pmf(b), label='Ideal')\n",
    "plt.legend();"
   ]
  },
  {
   "cell_type": "code",
   "execution_count": null,
   "metadata": {
    "slideshow": {
     "slide_type": "slide"
    }
   },
   "outputs": [],
   "source": [
    "from scipy.stats import binom, poisson\n",
    "N, p = 1600, 0.0025\n",
    "db = binom(N, p)\n",
    "dp = poisson(N*p)\n",
    "n = 1000\n",
    "b = np.arange(0, 15)\n",
    "plt.title('Comparing binomial and Poisson')\n",
    "plt.hist(db.rvs(n), bins=b, density=True, alpha=0.5,label='Binomial (' + str(N) + ', ' + str(p) + ')')\n",
    "plt.hist(dp.rvs(n), bins=b, density=True, alpha=0.5,label='Poisson (' + str(N*p) + ')')\n",
    "plt.legend();"
   ]
  },
  {
   "cell_type": "markdown",
   "metadata": {
    "slideshow": {
     "slide_type": "slide"
    }
   },
   "source": [
    "## Uniform: $\\;X\\sim U(a,b)$\n",
    "\n",
    "- Here the random variable has the same probability across the whole domain.\n",
    "- It is often used as a prior in *Bayesian inference* to represent no special *a priori* knowledge.\n",
    "\n",
    "- The pdf and cdf for a uniform distribution between $\\;a\\;$ and $\\;b\\;$ are:\n",
    "$$\n",
    "f(x|a,b) = \\begin{cases}\n",
    "    \\frac{1}{b-a} & \\text{if } a < x \\leq b \\\\\n",
    "    0             & \\text{otherwise}\n",
    "\\end{cases},\n",
    "\\qquad\n",
    "F(x) = \\begin{cases}\n",
    "    \\frac{x-a}{b-a} & \\text{if } a < x \\leq b \\\\\n",
    "    0               & \\text{if } x \\leq a \\\\\n",
    "    1               & \\text{if } x > b\n",
    "\\end{cases}\n",
    "$$\n",
    "\n",
    "- The expectation is $\\;\\displaystyle\\frac{1}{2}(a+b)\\;$ and the variance is $\\;\\displaystyle\\frac{1}{12}(b-a)^2$."
   ]
  },
  {
   "cell_type": "code",
   "execution_count": null,
   "metadata": {
    "slideshow": {
     "slide_type": "slide"
    }
   },
   "outputs": [],
   "source": [
    "from scipy.stats import uniform\n",
    "n = 1000\n",
    "lower, upper = 5, 15\n",
    "d = uniform(lower, upper - lower)\n",
    "x = np.linspace(lower, upper)\n",
    "plt.xlim(lower, upper)\n",
    "plt.ylim(0, 1.5 / (upper - lower))\n",
    "plt.title('Uniform distribution (5, 15)')\n",
    "plt.hist(d.rvs(n), bins=10, density=True, alpha=0.5,label='sampled')\n",
    "plt.plot(x, d.pdf(x), label='Ideal')\n",
    "plt.legend();"
   ]
  },
  {
   "cell_type": "markdown",
   "metadata": {
    "slideshow": {
     "slide_type": "slide"
    }
   },
   "source": [
    "## Exponential: $\\;X\\sim\\text{Exp}(\\lambda)$\n",
    "\n",
    "- This describes the time between events in a Poisson process, i.e. a process in which events occur continuously and independently at a constant average rate $\\;\\lambda\\;$ (and multiple events cannot happen at the same instant).\n",
    "\n",
    "- It can also be used for the distance between events in space under the \n",
    "  corresponding assumptions.\n",
    "\n",
    "- It is the continuous analogue of the Geometric distribution, and has the corresponding memory-less property. For continuous distributions, this is $\\;f(x+t|X>t)=f(x)$.\n",
    "\n",
    "The pdf and cdf are:\n",
    "\n",
    "$$\n",
    "f(x|\\lambda) = \\begin{cases}\n",
    "    \\lambda e^{-\\lambda x} & \\text{if } x \\geq 0 \\\\\n",
    "    0                   & \\text{otherwise}\n",
    "\\end{cases},\n",
    "\\qquad\n",
    "F(x) = \\begin{cases}\n",
    "    1-e^{-\\lambda x} & \\text{if } x \\geq 0 \\\\\n",
    "    0               & \\text{if } x < 0\n",
    "\\end{cases}\n",
    "$$\n",
    "\n",
    "- The expectation is $\\;1/\\lambda\\;$ and the variance is $\\;1/\\lambda^2$."
   ]
  },
  {
   "cell_type": "code",
   "execution_count": null,
   "metadata": {
    "slideshow": {
     "slide_type": "slide"
    }
   },
   "outputs": [],
   "source": [
    "from scipy.stats import expon\n",
    "n = 1000\n",
    "mu = 5\n",
    "d = expon(loc=0, scale=mu)\n",
    "x = np.linspace(0, 36, 1000)\n",
    "plt.xlim(0, 36)\n",
    "plt.title('Exponential distribution (mu=5)')\n",
    "plt.hist(d.rvs(n), bins=18, density=True, alpha=0.5,label='sampled')\n",
    "plt.plot(x, d.pdf(x), label='Ideal')\n",
    "plt.legend();"
   ]
  },
  {
   "cell_type": "markdown",
   "metadata": {
    "slideshow": {
     "slide_type": "slide"
    }
   },
   "source": [
    "## Gamma: $\\;X\\sim\\text{Gamma}(\\alpha, \\beta)$\n",
    "\n",
    "- The gamma distribution arises as the sum of iid exponentially distributed \n",
    "  random variables\n",
    "- if $\\;X_i\\sim\\text{Exp}(\\lambda)\\;$ and $\\;S = X_1 + X_2 + \\ldots + X_n\\;$ then \n",
    "  $\\;S\\sim\\text{Gamma}(n,\\lambda)$.\n",
    "\n",
    "The pdf and cdf are:\n",
    "\n",
    "$$\n",
    "f(x|\\alpha,\\beta) = \\begin{cases}\n",
    "    \\frac{\\beta^\\alpha}{\\Gamma(\\alpha)}x^{\\alpha-1}e^{-\\beta x} & \\text{if } x \\geq 0 \\\\\n",
    "    0                                                    & \\text{otherwise}\n",
    "\\end{cases},\n",
    "\\quad\n",
    "F(x) = \\begin{cases}\n",
    "    \\frac{\\gamma(\\alpha,\\beta x)}{\\Gamma(\\alpha)} & \\text{if } x \\geq 0 \\\\\n",
    "    0                                             & \\text{if } x < 0\n",
    "\\end{cases}\n",
    "$$\n",
    "\n",
    "where $\\;\\alpha = n\\;$, $\\;\\beta = \\lambda\\;$, $\\;\\Gamma\\;$ is the gamma function (an extension of the factorial function), and $\\;\\gamma\\;$ is the lower incomplete gamma function.\n",
    "\n",
    "- The expectation is $\\;\\alpha/\\beta\\;$ and the variance is $\\;\\alpha/\\beta^2$."
   ]
  },
  {
   "cell_type": "code",
   "execution_count": null,
   "metadata": {
    "slideshow": {
     "slide_type": "slide"
    }
   },
   "outputs": [],
   "source": [
    "from scipy.stats import gamma\n",
    "n = 1000\n",
    "d = gamma(a=2, scale=2)\n",
    "x = np.linspace(0, 20, 1000)\n",
    "plt.xlim(0, 20)\n",
    "plt.title('Gamma distribution (a=2, b=2)')\n",
    "plt.hist(d.rvs(n), bins=20, density=True, alpha=0.5,label='sampled')\n",
    "plt.plot(x, d.pdf(x), label='Ideal')\n",
    "plt.legend();"
   ]
  },
  {
   "cell_type": "code",
   "execution_count": null,
   "metadata": {
    "slideshow": {
     "slide_type": "slide"
    }
   },
   "outputs": [],
   "source": [
    "from scipy.stats import expon, gamma\n",
    "n = 1000\n",
    "mu = 5\n",
    "de = expon(loc=0, scale=mu)\n",
    "dg = gamma(a=1, scale=mu)\n",
    "x = np.linspace(0, 36, 1000)\n",
    "b = np.arange(0, 36, 2)\n",
    "plt.xlim(0, 36)\n",
    "plt.title('Comparing exponential and gamma')\n",
    "plt.hist(de.rvs(n), bins=b, density=True, alpha=0.5,label='Exponential (mu=5)')\n",
    "plt.hist(dg.rvs(n), bins=b, density=True, alpha=0.5,label='Gamma (a=1, b=5)')\n",
    "plt.plot(x, de.pdf(x), '--', label='Ideal')\n",
    "plt.legend();"
   ]
  },
  {
   "cell_type": "markdown",
   "metadata": {
    "slideshow": {
     "slide_type": "slide"
    }
   },
   "source": [
    "## Normal: $X\\sim N(\\mu, \\sigma^2)$\n",
    "\n",
    "- This is a very commonly arising distribution in the natural world\n",
    "- it is the limiting case of the Binomial and Poisson distributions with large \n",
    "  means.\n",
    "- This ubiquity is explained by the **central limit theorem**, which relates \n",
    "  the normal to most distributions through the mean of a large number of \n",
    "  samples.\n",
    "\n",
    "<!--% TODO: Show Normal & Poisson on same plot in Matlab script-->\n",
    "\n",
    "\n",
    "$$ f(x|\\mu,\\sigma^2) = \\frac{1}{\\sigma\\sqrt{2\\pi}} e^{-((x-\\mu)^2/2\\sigma^2)} $$"
   ]
  },
  {
   "cell_type": "code",
   "execution_count": null,
   "metadata": {
    "slideshow": {
     "slide_type": "slide"
    }
   },
   "outputs": [],
   "source": [
    "from scipy.stats import norm\n",
    "n = 1000\n",
    "d = norm(5, 2)\n",
    "x = np.linspace(-4, 14, 1000)\n",
    "b = np.arange(-4, 14, 0.5)\n",
    "plt.xlim(-4, 14)\n",
    "plt.hist(d.rvs(n), bins=b, density=True, alpha=0.5,label='sampled')\n",
    "plt.plot(x, d.pdf(x), label='Ideal')\n",
    "plt.legend();"
   ]
  },
  {
   "cell_type": "code",
   "execution_count": null,
   "metadata": {
    "slideshow": {
     "slide_type": "slide"
    }
   },
   "outputs": [],
   "source": [
    "from scipy.stats import norm, poisson\n",
    "n = 1000\n",
    "dp = poisson(100)\n",
    "dn = norm(100, np.sqrt(100))\n",
    "plt.xlim(60, 140)\n",
    "plt.title('Comparing normal and Poisson distribution')\n",
    "plt.hist(dp.rvs(n), bins=np.arange(60, 145, 5), density=True, alpha=0.5,label='Poisson (100)')\n",
    "plt.hist(dn.rvs(n), bins=np.arange(62.5, 142.5, 5), density=True, alpha=0.5,label='Normal (100, sqrt(100))')\n",
    "plt.legend();"
   ]
  },
  {
   "cell_type": "markdown",
   "metadata": {
    "slideshow": {
     "slide_type": "slide"
    }
   },
   "source": [
    "## Cautionary Python \n",
    "\n",
    "The parameterisations of the distributions in Python do not always match those \n",
    "above, so it is wise to check the documentation for each distribution."
   ]
  }
 ],
 "metadata": {
  "language_info": {
   "name": "python",
   "pygments_lexer": "ipython3"
  }
 },
 "nbformat": 4,
 "nbformat_minor": 2
}
