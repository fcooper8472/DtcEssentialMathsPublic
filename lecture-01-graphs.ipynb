{
 "cells": [
  {
   "cell_type": "markdown",
   "metadata": {
    "editable": true,
    "hideCode": false,
    "hidePrompt": false,
    "slideshow": {
     "slide_type": "slide"
    },
    "tags": []
   },
   "source": [
    "# Lecture 1\n",
    "\n",
    "## Graphs"
   ]
  },
  {
   "cell_type": "code",
   "execution_count": null,
   "metadata": {
    "editable": true,
    "hideCode": false,
    "hidePrompt": false,
    "slideshow": {
     "slide_type": "skip"
    },
    "tags": []
   },
   "outputs": [],
   "source": [
    "import numpy as np\n",
    "\n",
    "##################################################\n",
    "##### Matplotlib boilerplate for consistency #####\n",
    "##################################################\n",
    "from ipywidgets import interact\n",
    "from ipywidgets import FloatSlider\n",
    "from matplotlib import pyplot as plt\n",
    "\n",
    "%matplotlib widget\n",
    "\n",
    "global_fig_width = 9\n",
    "global_fig_height = global_fig_width / 1.61803399\n",
    "font_size = 10\n",
    "\n",
    "plt.rcParams['axes.axisbelow'] = True\n",
    "plt.rcParams['axes.edgecolor'] = '0.8'\n",
    "plt.rcParams['axes.grid'] = True\n",
    "plt.rcParams['axes.labelpad'] = 8\n",
    "plt.rcParams['axes.linewidth'] = 2\n",
    "plt.rcParams['axes.titlepad'] = 16.0\n",
    "plt.rcParams['axes.titlesize'] = font_size * 1.4\n",
    "plt.rcParams['figure.figsize'] = (global_fig_width, global_fig_height)\n",
    "plt.rcParams['font.sans-serif'] = ['Computer Modern Sans Serif', 'DejaVu Sans', 'sans-serif']\n",
    "plt.rcParams['font.size'] = font_size\n",
    "plt.rcParams['grid.color'] = '0.8'\n",
    "plt.rcParams['grid.linestyle'] = 'dashed'\n",
    "plt.rcParams['grid.linewidth'] = 2\n",
    "plt.rcParams['lines.dash_capstyle'] = 'round'\n",
    "plt.rcParams['lines.dashed_pattern'] = [1, 4]\n",
    "plt.rcParams['xtick.labelsize'] = font_size\n",
    "plt.rcParams['xtick.major.pad'] = 4\n",
    "plt.rcParams['xtick.major.size'] = 0\n",
    "plt.rcParams['ytick.labelsize'] = font_size\n",
    "plt.rcParams['ytick.major.pad'] = 4\n",
    "plt.rcParams['ytick.major.size'] = 0\n",
    "##################################################"
   ]
  },
  {
   "cell_type": "markdown",
   "metadata": {
    "hideCode": false,
    "hidePrompt": false,
    "slideshow": {
     "slide_type": "slide"
    }
   },
   "source": [
    "# Basics\n",
    "\n",
    "Terminology:\n",
    "\n",
    "- $Y$ or $y$ is the *dependent* variable, sometimes called the *ordinate*\n",
    "  marked on the vertical axis\n",
    "- $X$ or $x$ is the *independent* variable, sometimes called the *abscissa*\n",
    "  marked on the horizontal axis\n",
    "- The dependent variable is said to be graphed *against* the independent \n",
    "  variable\n",
    "\n",
    "Essential Features:\n",
    "\n",
    "- Title\n",
    "- Axis labels (and units if appropriate)"
   ]
  },
  {
   "cell_type": "code",
   "execution_count": null,
   "metadata": {
    "editable": true,
    "slideshow": {
     "slide_type": "skip"
    },
    "tags": []
   },
   "outputs": [],
   "source": [
    "# Fake data for example plot\n",
    "x = np.linspace(0, 25, 100)\n",
    "e = np.random.normal(0, 0.2, 100)\n",
    "y = np.sin(x) + e"
   ]
  },
  {
   "cell_type": "code",
   "execution_count": null,
   "metadata": {
    "editable": true,
    "hideCode": false,
    "hideOutput": false,
    "hidePrompt": false,
    "slideshow": {
     "slide_type": "subslide"
    },
    "tags": []
   },
   "outputs": [],
   "source": [
    "fig1, ax1 = plt.subplots()\n",
    "fig1.canvas.header_visible = False\n",
    "fig1.canvas.footer_visible = False\n",
    "\n",
    "_ = ax1.set_title('Plot title')\n",
    "_ = ax1.set_xlabel('x-label (units)')\n",
    "_ = ax1.set_ylabel('y-label (units)')\n",
    "_ = ax1.plot(x, y, 'o');"
   ]
  },
  {
   "cell_type": "markdown",
   "metadata": {
    "editable": true,
    "hideCode": false,
    "hidePrompt": false,
    "slideshow": {
     "slide_type": "slide"
    },
    "tags": []
   },
   "source": [
    "\n",
    "# Equation of a straight line\n",
    "\n",
    "Defined by a gradient, $m$, and a $y$-axis intercept, $c$:\n",
    "\n",
    "$$y = m x + c$$\n",
    "\n",
    "Interpretation:\n",
    "\n",
    "- The intercept of this line on the $y$ axis is given by $y=c$, since at $x=0$, \n",
    "  $y = c$\n",
    "\n",
    "\n",
    "- The gradient of this line (also called its \"slope\") is given by \n",
    "  $$m = {y_2-y_1\\over x_2 - x_1}$$\n",
    "  (\"change in $y$ divided by change in $x$\")\n",
    "\n",
    "\n",
    "- The intercept of this line on the $x$ axis is given by $x = -{c \\over m}$, \n",
    "  since at $y=0$ we must have $mx=-c$"
   ]
  },
  {
   "cell_type": "markdown",
   "metadata": {
    "editable": true,
    "hideCode": false,
    "hidePrompt": false,
    "slideshow": {
     "slide_type": "slide"
    },
    "tags": []
   },
   "source": [
    "# Graphs of Polynomials\n",
    "\n",
    "An expression involving higher powers of $x$ is called a *polynomial* in $x$.\n",
    "\n"
   ]
  },
  {
   "cell_type": "markdown",
   "metadata": {
    "slideshow": {
     "slide_type": "subslide"
    }
   },
   "source": [
    "## Example\n",
    "\n",
    "$y=x^5-5x^3+4x$\n",
    "\n"
   ]
  },
  {
   "cell_type": "code",
   "execution_count": null,
   "metadata": {
    "editable": true,
    "slideshow": {
     "slide_type": "subslide"
    },
    "tags": []
   },
   "outputs": [],
   "source": [
    "x = np.linspace(-2.2, 2.2, 100) # use 100 regularly spaced x-points from -2.2 to 2.2\n",
    "y = x**5 - 5.0*x**3 + 4*x       # generate y values of polynomial from x\n",
    "\n",
    "fig2, ax2 = plt.subplots()\n",
    "fig2.canvas.header_visible = False\n",
    "fig2.canvas.footer_visible = False\n",
    "\n",
    "_ = ax2.set_title('Example polynomial')\n",
    "_ = ax2.set_xlabel('$x$')\n",
    "_ = ax2.set_ylabel('$y=x^5-5x^3+4x$')\n",
    "_ = ax2.plot(x, y)"
   ]
  },
  {
   "cell_type": "markdown",
   "metadata": {
    "editable": true,
    "slideshow": {
     "slide_type": "subslide"
    },
    "tags": []
   },
   "source": [
    "## In general\n",
    "\n",
    "$$y = a_n x^n + a_{n-1} x^{n-1} + a_{n-2} x^{n-2}+\\ldots+a_1 x^1 + a_0x^0$$\n",
    "\n",
    "The graph of a polynomial of degree $n$ has at most $n-1$ bends in it."
   ]
  },
  {
   "cell_type": "markdown",
   "metadata": {
    "hideCode": false,
    "hidePrompt": false,
    "slideshow": {
     "slide_type": "slide"
    }
   },
   "source": [
    "# Transforming from non-linear to linear\n",
    "\n",
    "If we wish to test visually whether some data fit a particular relationship, we can transform the data to plot something which should be linear if the relationship holds.\n",
    "\n",
    "## e.g. Test for *parabolic* shape for data in $(x,y)$: i.e. $y = x^2$\n",
    "\n",
    "- We can plot $Y$ against $X$ where we let $Y=y$ and $X=x^2$."
   ]
  },
  {
   "cell_type": "code",
   "execution_count": null,
   "metadata": {
    "editable": true,
    "hideCode": false,
    "hidePrompt": false,
    "slideshow": {
     "slide_type": "skip"
    },
    "tags": []
   },
   "outputs": [],
   "source": [
    "# Generate figs for \"transforming from non-linear to linear\"\n",
    "\n",
    "x = np.random.uniform(0, 8, 100)\n",
    "e = np.random.normal(0, 8.0, 100)\n",
    "y = 5. * x * x + 87. + e"
   ]
  },
  {
   "cell_type": "markdown",
   "metadata": {
    "editable": true,
    "hideCode": false,
    "hidePrompt": false,
    "slideshow": {
     "slide_type": "subslide"
    },
    "tags": []
   },
   "source": [
    "### First plot the original data\n",
    "There's a definite curve, and we may suspect the trend is quadratic"
   ]
  },
  {
   "cell_type": "code",
   "execution_count": null,
   "metadata": {
    "editable": true,
    "hideCode": false,
    "hidePrompt": false,
    "slideshow": {
     "slide_type": "subslide"
    },
    "tags": []
   },
   "outputs": [],
   "source": [
    "fig3, ax3 = plt.subplots()\n",
    "fig3.canvas.header_visible = False\n",
    "fig3.canvas.footer_visible = False\n",
    "\n",
    "_ = ax3.set_title('Nonlinear trend')\n",
    "_ = ax3.set_xlabel('$X=x$')\n",
    "_ = ax3.set_ylabel('$Y=y$')\n",
    "_ = ax3.plot(x, y, 'o')"
   ]
  },
  {
   "cell_type": "markdown",
   "metadata": {
    "editable": true,
    "hideCode": false,
    "hidePrompt": false,
    "slideshow": {
     "slide_type": "subslide"
    },
    "tags": []
   },
   "source": [
    "### Now plot the data nonlinearly\n",
    "\n",
    "If the parabolic relationship holds, plotting $Y=y$ against $X=x^2$ should result in a straight line."
   ]
  },
  {
   "cell_type": "code",
   "execution_count": null,
   "metadata": {
    "editable": true,
    "hideCode": false,
    "hidePrompt": false,
    "slideshow": {
     "slide_type": "subslide"
    },
    "tags": []
   },
   "outputs": [],
   "source": [
    "xx = x * x\n",
    "\n",
    "fig4, ax4 = plt.subplots()\n",
    "fig4.canvas.header_visible = False\n",
    "fig4.canvas.footer_visible = False\n",
    "\n",
    "_ = ax4.set_title('Linear trend')\n",
    "_ = ax4.set_xlabel('$X=x^2$')\n",
    "_ = ax4.set_ylabel('$Y=y$')\n",
    "_ = ax4.plot(xx, y, 'o')"
   ]
  },
  {
   "cell_type": "markdown",
   "metadata": {
    "editable": true,
    "hideCode": false,
    "hidePrompt": false,
    "slideshow": {
     "slide_type": "subslide"
    },
    "tags": []
   },
   "source": [
    "### Calculate the gradient and the intercept\n",
    "\n",
    "We next add a trendline through these points which we can use to determine the gradient and intercept."
   ]
  },
  {
   "cell_type": "code",
   "execution_count": null,
   "metadata": {
    "editable": true,
    "hideCode": false,
    "hidePrompt": false,
    "slideshow": {
     "slide_type": "skip"
    },
    "tags": []
   },
   "outputs": [],
   "source": [
    "class InteractivePlot5:\n",
    "    def __init__(self):\n",
    "        # Create the figure and axes\n",
    "        self.fig, self.ax = plt.subplots()\n",
    "        # Hide the figure header and footer\n",
    "        self.fig.canvas.header_visible = False\n",
    "        self.fig.canvas.footer_visible = False\n",
    "\n",
    "        self.ax.set_title('Linear Trend with Trendline')\n",
    "        self.ax.set_xlabel('$X = x^2$')\n",
    "        self.ax.set_ylabel('$Y = y$')\n",
    "        self.ax.set_xlim((0, 64))\n",
    "        self.ax.set_ylim((np.min(y) - 10, np.max(y) + 10))\n",
    "\n",
    "        # Plot the data points\n",
    "        self.scatter, = self.ax.plot(xx, y, 'o', label='Data Points')\n",
    "\n",
    "        # Initialize the trendline\n",
    "        self.line, = self.ax.plot([], [], color='orange', label='Trendline')\n",
    "\n",
    "        # Optionally, add a legend\n",
    "        self.ax.legend()\n",
    "\n",
    "    def update(self, m, c):\n",
    "        # Update the trendline data\n",
    "        x_line = np.array([0., 64.])\n",
    "        y_line = m * x_line + c\n",
    "        self.line.set_data(x_line, y_line)\n",
    "\n",
    "        # Redraw the figure canvas\n",
    "        self.fig.canvas.draw_idle()\n",
    "\n",
    "# Create slider widgets for 'm' and 'c'\n",
    "m_widget = FloatSlider(value=5.0, min=3.0, max=7.0, step=0.05, continuous_update=True)\n",
    "c_widget = FloatSlider(value=87.0, min=2.0, max=172.0, step=1.0, continuous_update=True)"
   ]
  },
  {
   "cell_type": "code",
   "execution_count": null,
   "metadata": {
    "editable": true,
    "slideshow": {
     "slide_type": "subslide"
    },
    "tags": []
   },
   "outputs": [],
   "source": [
    "interactive_plot5 = InteractivePlot5()\n",
    "interact(interactive_plot5.update, m=m_widget, c=c_widget);"
   ]
  },
  {
   "cell_type": "markdown",
   "metadata": {
    "editable": true,
    "slideshow": {
     "slide_type": "subslide"
    },
    "tags": []
   },
   "source": [
    "- We find $(X,Y)$ lie along a straight line with slope 5 and Y-intercept 87.\n",
    "\n",
    "\n",
    "- This means that $Y=5X+87$ \n",
    "\n",
    "\n",
    "- So, $y$ and $x$ can be modelled by the polynomial equation $y=5x^2+87$."
   ]
  },
  {
   "cell_type": "markdown",
   "metadata": {
    "hideCode": false,
    "hidePrompt": false,
    "slideshow": {
     "slide_type": "slide"
    }
   },
   "source": [
    "# Example from biosciences\n",
    "\n",
    "The rate at which a given enzyme can catalyse a reaction can be dependent upon the substrate concentration:\n",
    "$${1\\over V} = {m\\over S} + c$$\n",
    "\n",
    "\n",
    "where $V$ is the rate of the reaction, $S$ is the substrate concentration and \n",
    "$m$ and $c$ are constants.\n",
    "\n",
    "\n",
    "- We can derive a straight line graph from the above formula by plotting \n",
    "   $Y=1/V$ against $X=1/S$\n",
    "\n",
    "\n",
    "- It will have gradient $m$ and ordinate intercept $c$\n",
    "\n",
    "\n",
    "First, plot the original data which is observations of $V$ given varying $S$:"
   ]
  },
  {
   "cell_type": "code",
   "execution_count": null,
   "metadata": {
    "editable": true,
    "slideshow": {
     "slide_type": "skip"
    },
    "tags": []
   },
   "outputs": [],
   "source": [
    "# Generate figs for \"transforming from non-linear to linear\"\n",
    "\n",
    "m = 3\n",
    "c = 5\n",
    "e = np.random.normal(0, 0.001, 100)\n",
    "S = np.random.uniform(0.2,0.8,100)\n",
    "V = e + S/(m+c*S)"
   ]
  },
  {
   "cell_type": "code",
   "execution_count": null,
   "metadata": {
    "editable": true,
    "slideshow": {
     "slide_type": "subslide"
    },
    "tags": []
   },
   "outputs": [],
   "source": [
    "fig6, ax6 = plt.subplots()\n",
    "fig6.canvas.header_visible = False\n",
    "fig6.canvas.footer_visible = False\n",
    "\n",
    "_ = ax6.set_title('Original data')\n",
    "_ = ax6.set_xlabel('$S$')\n",
    "_ = ax6.set_ylabel('$V$')\n",
    "_ = ax6.plot(S, V, 'o')"
   ]
  },
  {
   "cell_type": "markdown",
   "metadata": {
    "editable": true,
    "slideshow": {
     "slide_type": "subslide"
    },
    "tags": []
   },
   "source": [
    "### Now plot the data nonlinearly\n",
    "\n",
    "If the hypothesised relationship holds, plotting $Y=1/V$ against $X=1/S$ should result in a straight line."
   ]
  },
  {
   "cell_type": "code",
   "execution_count": null,
   "metadata": {
    "editable": true,
    "slideshow": {
     "slide_type": "subslide"
    },
    "tags": []
   },
   "outputs": [],
   "source": [
    "fig7, ax7 = plt.subplots()\n",
    "fig7.canvas.header_visible = False\n",
    "fig7.canvas.footer_visible = False\n",
    "\n",
    "_ = ax7.set_title('Linear trend')\n",
    "_ = ax7.set_xlabel('$X=1/S$')\n",
    "_ = ax7.set_ylabel('$Y=1/V$')\n",
    "_ = ax7.plot(1/S, 1/V, 'o')"
   ]
  },
  {
   "cell_type": "markdown",
   "metadata": {
    "editable": true,
    "slideshow": {
     "slide_type": "subslide"
    },
    "tags": []
   },
   "source": [
    "### Calculate the gradient and the intercept\n",
    "\n",
    "We next add a trendline through these points which we can use to determine the gradient and intercept."
   ]
  },
  {
   "cell_type": "code",
   "execution_count": null,
   "metadata": {
    "editable": true,
    "slideshow": {
     "slide_type": "skip"
    },
    "tags": []
   },
   "outputs": [],
   "source": [
    "class InteractivePlot7:\n",
    "    def __init__(self):\n",
    "        # Create the figure and axes\n",
    "        self.fig, self.ax = plt.subplots()\n",
    "        # Hide the figure header and footer\n",
    "        self.fig.canvas.header_visible = False\n",
    "        self.fig.canvas.footer_visible = False\n",
    "\n",
    "        self.ax.set_title('Linear Trend with Trendline')\n",
    "        self.ax.set_xlabel('$X = 1/S$')\n",
    "        self.ax.set_ylabel('$Y = 1/V$')\n",
    "\n",
    "        # Calculate reciprocal values\n",
    "        self.X = 1 / S\n",
    "        self.Y = 1 / V\n",
    "\n",
    "        # Plot the data points\n",
    "        self.scatter, = self.ax.plot(self.X, self.Y, 'o', label='Data Points')\n",
    "\n",
    "        # Initialize the trendline\n",
    "        self.line, = self.ax.plot([], [], color='orange', label='Trendline')\n",
    "\n",
    "        # Optionally, add a legend\n",
    "        self.ax.legend()\n",
    "\n",
    "    def update(self, m, c):\n",
    "        # Update the trendline data\n",
    "        x_line = np.array([1.25, 5.0])\n",
    "        y_line = m * x_line + c\n",
    "        self.line.set_data(x_line, y_line)\n",
    "\n",
    "        # Redraw the figure canvas\n",
    "        self.fig.canvas.draw_idle()\n",
    "\n",
    "# Create slider widgets for 'm' and 'c'\n",
    "m_widget = FloatSlider(value=3.0, min=2.0, max=4.0, step=0.05, continuous_update=True)\n",
    "c_widget = FloatSlider(value=5.0, min=0.0, max=10.0, step=0.2, continuous_update=True)"
   ]
  },
  {
   "cell_type": "code",
   "execution_count": null,
   "metadata": {
    "editable": true,
    "slideshow": {
     "slide_type": "subslide"
    },
    "tags": []
   },
   "outputs": [],
   "source": [
    "interactive_plot7 = InteractivePlot7()\n",
    "interact(interactive_plot7.update, m=m_widget, c=c_widget);"
   ]
  },
  {
   "cell_type": "markdown",
   "metadata": {
    "editable": true,
    "slideshow": {
     "slide_type": "subslide"
    },
    "tags": []
   },
   "source": [
    "- We find $(X,Y)$ lie along a straight line with slope 3 and Y-intercept 5.\n",
    "\n",
    "- This means that $Y=3X+5$ \n",
    "\n",
    "- So, $V$ and $S$ can be modelled by the equation $1/V=3/S+5$."
   ]
  }
 ],
 "metadata": {
  "kernelspec": {
   "display_name": "Python 3 (ipykernel)",
   "language": "python",
   "name": "python3"
  },
  "language_info": {
   "codemirror_mode": {
    "name": "ipython",
    "version": 3
   },
   "file_extension": ".py",
   "mimetype": "text/x-python",
   "name": "python",
   "nbconvert_exporter": "python",
   "pygments_lexer": "ipython3"
  }
 },
 "nbformat": 4,
 "nbformat_minor": 4
}
