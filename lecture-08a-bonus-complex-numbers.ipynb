{
 "cells": [
  {
   "cell_type": "markdown",
   "metadata": {
    "slideshow": {
     "slide_type": "slide"
    }
   },
   "source": [
    "# Bonus complex numbers"
   ]
  },
  {
   "cell_type": "code",
   "execution_count": null,
   "metadata": {
    "slideshow": {
     "slide_type": "skip"
    }
   },
   "outputs": [],
   "source": [
    "import numpy as np\n",
    "\n",
    "import sympy as sp\n",
    "sp.init_printing()\n",
    "\n",
    "from ipywidgets import interact\n",
    "from ipywidgets import FloatSlider\n",
    "from ipywidgets import IntSlider\n",
    "\n",
    "from matplotlib import pyplot as plt\n",
    "plt.rcParams['figure.figsize'] = (12, 10)"
   ]
  },
  {
   "cell_type": "code",
   "execution_count": null,
   "metadata": {
    "slideshow": {
     "slide_type": "skip"
    }
   },
   "outputs": [],
   "source": [
    "r = np.linspace(-1.5, 1.5, 100)\n",
    "i = np.linspace(-1.5, 1.5, 100)\n",
    "rr, ii = np.meshgrid(r, i, sparse=True)\n",
    "\n",
    "c_widget = FloatSlider(value=-1.0, min=-1.0, max=1.0, step=0.1, continuous_update=False)\n",
    "p_widget = IntSlider(value=2, min=2, max=8, step=1, continuous_update=False)\n",
    "\n",
    "def contour(c, p):\n",
    "    plt.title('$y=x^p+c$')\n",
    "    plt.xlabel('Real axis')\n",
    "    plt.ylabel('Imaginary axis')\n",
    "    \n",
    "    z = np.abs((rr + 1j*ii)**p + c)\n",
    "    plt.contourf(r,i,z,np.linspace(0., 3.5, 150))\n",
    "    plt.colorbar();\n"
   ]
  },
  {
   "cell_type": "code",
   "execution_count": null,
   "metadata": {
    "scrolled": false,
    "slideshow": {
     "slide_type": "slide"
    }
   },
   "outputs": [],
   "source": [
    "interact(contour, c=c_widget, p=p_widget, continuous_update=False);"
   ]
  },
  {
   "cell_type": "code",
   "execution_count": null,
   "metadata": {
    "slideshow": {
     "slide_type": "slide"
    }
   },
   "outputs": [],
   "source": [
    "x = sp.symbols('x')\n",
    "sp.simplify((x**3-1)/(x-1))"
   ]
  }
 ],
 "metadata": {
  "language_info": {
   "name": "python",
   "pygments_lexer": "ipython3"
  }
 },
 "nbformat": 4,
 "nbformat_minor": 2
}
