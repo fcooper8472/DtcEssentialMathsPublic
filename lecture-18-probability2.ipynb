{
 "cells": [
  {
   "cell_type": "markdown",
   "metadata": {
    "slideshow": {
     "slide_type": "slide"
    }
   },
   "source": [
    "# Lecture 18: Probability 2"
   ]
  },
  {
   "cell_type": "code",
   "execution_count": null,
   "metadata": {
    "slideshow": {
     "slide_type": "skip"
    }
   },
   "outputs": [],
   "source": [
    "import numpy as np\n",
    "import sympy as sp\n",
    "import scipy.integrate\n",
    "sp.init_printing()\n",
    "##################################################\n",
    "##### Matplotlib boilerplate for consistency #####\n",
    "##################################################\n",
    "from ipywidgets import interact\n",
    "from ipywidgets import FloatSlider\n",
    "from matplotlib import pyplot as plt\n",
    "import math\n",
    "\n",
    "%matplotlib inline\n",
    "\n",
    "from IPython.display import set_matplotlib_formats\n",
    "set_matplotlib_formats('svg')\n",
    "\n",
    "global_fig_width = 10\n",
    "global_fig_height = global_fig_width / 1.61803399\n",
    "font_size = 12\n",
    "\n",
    "plt.rcParams['axes.axisbelow'] = True\n",
    "plt.rcParams['axes.edgecolor'] = '0.8'\n",
    "plt.rcParams['axes.grid'] = True\n",
    "plt.rcParams['axes.labelpad'] = 8\n",
    "plt.rcParams['axes.linewidth'] = 2\n",
    "plt.rcParams['axes.titlepad'] = 16.0\n",
    "plt.rcParams['axes.titlesize'] = font_size * 1.4\n",
    "plt.rcParams['figure.figsize'] = (global_fig_width, global_fig_height)\n",
    "plt.rcParams['font.sans-serif'] = ['Computer Modern Sans Serif', 'DejaVu Sans', 'sans-serif']\n",
    "plt.rcParams['font.size'] = font_size\n",
    "plt.rcParams['grid.color'] = '0.8'\n",
    "plt.rcParams['grid.linestyle'] = 'dashed'\n",
    "plt.rcParams['grid.linewidth'] = 2\n",
    "plt.rcParams['lines.dash_capstyle'] = 'round'\n",
    "plt.rcParams['lines.dashed_pattern'] = [1, 4]\n",
    "plt.rcParams['xtick.labelsize'] = font_size\n",
    "plt.rcParams['xtick.major.pad'] = 4\n",
    "plt.rcParams['xtick.major.size'] = 0\n",
    "plt.rcParams['ytick.labelsize'] = font_size\n",
    "plt.rcParams['ytick.major.pad'] = 4\n",
    "plt.rcParams['ytick.major.size'] = 0\n",
    "##################################################"
   ]
  },
  {
   "cell_type": "markdown",
   "metadata": {
    "slideshow": {
     "slide_type": "slide"
    }
   },
   "source": [
    "## Philisophical conceptions of probability\n",
    "\n",
    "- **Frequentist**: $\\;P(A)\\;$ describes the limiting frequency of an event $A$ \n",
    "    - there is a fixed value of $\\;P(A)\\;$ that must be calculated\n",
    "    - e.g. proportion of heads from a fair coin toss will approach 0.5 after a large number of trials\n",
    "    \n",
    "- **Bayesian, or degrees of belief**: $\\;P(A)\\;$ is a measure of centainty, quantification of investigators belief that $\\;A\\;$ is true\n",
    "    - a fixed value of $\\;P(A)\\;$ is not neccessary, nor desirable.\n",
    "    - Pior information must be used to augment sample data "
   ]
  },
  {
   "cell_type": "markdown",
   "metadata": {
    "slideshow": {
     "slide_type": "slide"
    }
   },
   "source": [
    "## Conditional Probability\n",
    "\n",
    "Generally, events of interest are not independent, and we want to reason about the effect one event has on another.\n",
    "\n",
    "The **conditional probability** $\\;P(A|B)\\;$ is the probability that event $\\;A\\;$ \n",
    "occurs, given that (or knowing that) event $\\;B\\;$ has occurred.\n",
    "\n",
    "$$ P(A|B) = \\frac{P(A \\cap B)}{P(B)}. $$\n",
    "\n",
    "if (and only if) the events $\\;A\\;$ and $\\;B\\;$ are independent:\n",
    "\n",
    "$$ P(A|B) = \\frac{P(A)\\times P(B)}{P(B)} = P(A). $$\n",
    "\n",
    "Note that $\\;P(A|B)\\;$ is often quite different from $\\;P(B|A)\\;$."
   ]
  },
  {
   "cell_type": "markdown",
   "metadata": {
    "slideshow": {
     "slide_type": "slide"
    }
   },
   "source": [
    "Can we determine $\\;P(B|A)\\;$ from $\\;P(A|B)\\;$ (or vice versa)?\n",
    "\n",
    "Bayes' theorem, says that\n",
    "\n",
    "$$P(B \\cap A)=P(A \\cap B)=P(A|B) \\times P(B)=P(B|A) \\times P(A)$$\n",
    "\n",
    "therefore\n",
    "\n",
    "$$P(B|A) = \\frac{P(A|B)\\times P(B)}{P(A)}$$\n",
    "\n",
    "We can use this to make inferences about _the state a system is in_ $\\;(B),\\;$ from\n",
    " the observation of some event $\\;(A).$"
   ]
  },
  {
   "cell_type": "markdown",
   "metadata": {
    "slideshow": {
     "slide_type": "slide"
    }
   },
   "source": [
    "As the classic example, consider a rare disease that affects 1 in 1000 people.\n",
    "There is a test for the disease that is 99\\% accurate, \n",
    "\n",
    "- For a random person who tests positive, how likely is it that they have the \n",
    "  disease?\n",
    "\n",
    "- Let A be the event \"positive test\" and B be the event \"has the disease\".\n",
    "- We wish to determine P(B|A).\n",
    "\n",
    "We know that $\\;P(B)=0.001\\;$, $\\;P(A|B)=0.99\\;$, and $\\;P(A| \\sim B)=0.01\\;$.\n",
    "\n",
    "Then\n",
    "\n",
    "$$ P(B|A) = \\frac{P(A|B)\\times P(B)}{P(A)} = \\frac{0.99\\times 0.001}{P(A)}. $$"
   ]
  },
  {
   "cell_type": "markdown",
   "metadata": {
    "slideshow": {
     "slide_type": "slide"
    }
   },
   "source": [
    "## How do we determine P(A)?\n",
    "\n",
    "We use the *partition rule* for *mutually exclusive* and *exhaustive* events.\n",
    "\n",
    "$$ P(A) = \\sum_{i=1}^n P(A\\cap C_i) = \\sum_{i=1}^n P(A|C_i)P(C_i). $$\n",
    "\n",
    "For this particular case,\n",
    "\\begin{align*}\n",
    "    P(A) &= P(A|B)P(B) + P(A|\\sim B)P(\\sim B)\\\\\n",
    "           &= 0.99\\times0.001 + 0.01\\times0.999 \\\\\n",
    "           &= 0.01098 \n",
    "           \\end{align*}\n",
    "\n",
    "so $P(B|A) = 0.00099/0.01098 \\approx 0.09$ or 9\\%."
   ]
  },
  {
   "cell_type": "markdown",
   "metadata": {
    "slideshow": {
     "slide_type": "slide"
    }
   },
   "source": [
    "One can see this result more intuitively by thinking about testing 1000 \n",
    "people at random:\n",
    "\n",
    "- 1 will be infected and probably have a positive test\n",
    "\n",
    "- Of the 999 not infected, about 10 will also have a positive test result.\n",
    "\n",
    "So only about 1 out of 11 positive tests are really due to the disease."
   ]
  },
  {
   "cell_type": "markdown",
   "metadata": {
    "slideshow": {
     "slide_type": "slide"
    }
   },
   "source": [
    "## Bertrand's box paradox:\n",
    "Suppose you have 3 boxes each containing 2 coins. In one box both are gold, in another both are silver, and in the third there is one of each. Choose a box at random and withdraw one coin (also at random). If the coin taken out is gold, what is the probability that the other coin in the box is also gold?"
   ]
  },
  {
   "cell_type": "markdown",
   "metadata": {
    "slideshow": {
     "slide_type": "slide"
    }
   },
   "source": [
    "**Answer:** we can label the boxes GG, GS, and SS, need to find P(GG|g).\n",
    "Using Bayes' rule this is\n",
    "\n",
    "\\begin{align*}\n",
    "P(\\mathrm{GG}|\\mathrm{g})\n",
    " &= \\frac{P(\\mathrm{g}|\\mathrm{GG})P(\\mathrm{GG})}{P(\\mathrm{g})}\\\\\n",
    " &= \\frac{1\\times 1/3}{\\mathrm{P(g|GG)P(GG) + P(g|GS)P(GS) + P(g|SS)P(SS)}}\\\\\n",
    " &= \\frac{1/3}{1\\times1/3+1/2\\times1/3+0\\times1/3}\n",
    "  = 2/3\n",
    "\\end{align*}\n",
    "\n",
    "Wait, what?\n",
    "\n",
    "It turns out that, if you get a gold coin from the first box, it's more likely\n",
    " to be the box with two golden coins than the box with one golden coin!"
   ]
  },
  {
   "cell_type": "markdown",
   "metadata": {
    "slideshow": {
     "slide_type": "slide"
    }
   },
   "source": [
    "## Probability Distributions\n",
    "\n",
    "What do we do if the number of possible outcomes is very large or even infinite?\n",
    "\n",
    "We look at a _probability distribution_\n",
    "\n",
    "- The distribution as a whole tells us \"what could happen\".\n",
    "\n",
    "- We can also *sample* the distribution to obtain a single outcome, a \n",
    "  *random sample* or *observation*.\n",
    "\n",
    "- A variable $\\;X\\;$ is a _random variable_ if its value is a _numerical_ sample\n",
    "  from a distribution \n",
    "\n",
    "- Often these arise as the outcomes of a _stochastic process_: the evolution of\n",
    "  some system over time, where changes are subject to random variation."
   ]
  },
  {
   "cell_type": "markdown",
   "metadata": {
    "slideshow": {
     "slide_type": "slide"
    }
   },
   "source": [
    "## Describing distributions\n",
    "\n",
    "- For **discrete** data, distributions are characterised by a \n",
    " **probability mass function**.\n",
    "- This tells us $\\;P(X=x)\\;$ for each possible value (sample) $\\;x\\;$ of the random \n",
    "  variable $\\;X$.\n",
    "- The vertical axis shows probability.\n",
    "\n",
    "We must have that:\n",
    "\n",
    "$$ \\sum_x P(X=x) = 1 $$"
   ]
  },
  {
   "cell_type": "markdown",
   "metadata": {
    "slideshow": {
     "slide_type": "slide"
    }
   },
   "source": [
    "## Describing distributions\n",
    "\n",
    "- For **continuous** data distributions are characterised by a **probability density function**.\n",
    "- By convention we use $\\;f(x)\\;$ for this, and the **area** under the curve \n",
    "  tells us the probability of lying within a range of values:\n",
    "  \n",
    "$$ P(a < X \\leq b) = \\int_a^b f(x)\\,{\\rm d}x $$\n",
    "\n",
    "- The vertical axis this time is **probability density**, not probability.\n",
    "\n",
    "We must also have that:\n",
    "\n",
    "$$ \\int_{-\\infty}^\\infty f(x)\\,{\\rm d}x = 1 $$"
   ]
  },
  {
   "cell_type": "markdown",
   "metadata": {
    "slideshow": {
     "slide_type": "slide"
    }
   },
   "source": [
    "## Cumulative Probability\n",
    "\n",
    "Consider the probability that a random variable $\\;X\\;$ is no larger than some value \n",
    "$\\;x.\\;$\n",
    "\n",
    "This **cumulative probability** of $\\;x\\;$ is well defined for both discrete and continuous distributions, and gives us the **cumulative distribution function**:\n",
    "\n",
    "$$ F(x) = P(X \\leq x) $$\n",
    "\n",
    "This function always starts at $\\;0\\;$, ends at $\\;1,\\;$ and never decreases as $\\;x\\;$ increases.\n",
    "\n",
    "$$P(a < X \\leq b) = P(X \\leq b) - P(X \\leq a) = F(b) - F(a) $$"
   ]
  },
  {
   "cell_type": "markdown",
   "metadata": {
    "slideshow": {
     "slide_type": "slide"
    }
   },
   "source": [
    "Note that for a discrete random variable,\n",
    "$$ F(x) = \\sum_{y \\leq x} P(X=y).$$\n",
    "\n",
    "For a continuous random variable,\n",
    "$$ F(X) = \\int_{-\\infty}^x f(y)\\,{\\rm d}y.$$\n",
    "\n",
    "Therefore,\n",
    "$$ f(x) = \\frac{{\\rm d}}{{\\rm d}x} F(x).$$\n",
    "\n",
    "From this we can interpret the height of the probability density function $\\;f(x)\\;$ as telling us the rate of increase in the probability of sampling near a point $\\;x$."
   ]
  },
  {
   "cell_type": "markdown",
   "metadata": {
    "slideshow": {
     "slide_type": "slide"
    }
   },
   "source": [
    "## Notation conventions\n",
    "- Random variables are written as upper case letters (e.g. $\\;X$)\n",
    "- Specific values (samples) of random variables are written in lower case (e.g.\n",
    "  $\\;x$)\n",
    "- Probability density functions (pdfs) are written as $\\;f(x)$\n",
    "- Cumulative density functions (cdfs) are written as $\\;F(x)$\n",
    "- The parameters of a distribution are defined collectively as \n",
    "  $\\;\\theta,\\;$ so we might write $\\;P(X=x|\\theta)\\;$ for the probability that a random variable $\\;X\\;$ with parameters $\\;\\theta\\;$ takes value $\\;x\\;$."
   ]
  },
  {
   "cell_type": "markdown",
   "metadata": {
    "slideshow": {
     "slide_type": "slide"
    }
   },
   "source": [
    "## Expectation and variance\n",
    "\n",
    "The **expectation** of a distribution is the mean value of a random variable over\n",
    " a large number of samples.\n",
    " \n",
    "$$ E(X) = \\sum_x x P(X=x) \\qquad\\mathrm{or}\\qquad \\int_{-\\infty}^\\infty \n",
    "xf(x)\\,{\\rm d}x. $$\n",
    "\n",
    "$E(X)\\;$ is often also written as $\\;\\mu.$\n",
    "\n",
    "The _variance_ of a distribution, written $\\;\\sigma^2\\;$ or $\\;Var(X),\\;$ is defined\n",
    " as the expectation of the squared difference between a sampled value and the mean $\\;\\mu:$\n",
    " \n",
    "$$ Var(X) = E\\left((X-\\mu)^2\\right) = \\sum_x (x-\\mu)^2 P(X=x)$$\n",
    "\n",
    "or\n",
    "$$\\int_{-\\infty}^\\infty (x-\\mu)^2f(x)\\,{\\rm d}x $$"
   ]
  },
  {
   "cell_type": "markdown",
   "metadata": {
    "slideshow": {
     "slide_type": "slide"
    }
   },
   "source": [
    "## Combining random variables\n",
    "\n",
    "The main rules, where $\\;X,\\;Y\\;$ are iid (**independent and indentically \n",
    "distributed**) random variables and $\\;a,\\;b\\;$ are constants, are:\n",
    "\n",
    "\\begin{align*}\n",
    " E(X+Y)     &= E(X) + E(Y) = 2E(X) \\\\\n",
    " Var(X+Y)  &= Var(X) + Var(Y) = 2Var(X) \\\\\n",
    " E(aX+b)    &= aE(X) + b \\\\\n",
    " Var(aX+b) &= a^2 Var(X)\n",
    "\\end{align*}\n",
    "\n",
    "We can derive what is often a simpler form for the variance,\n",
    "\n",
    "\\begin{align*}\n",
    " Var(X) &= E((X-\\mu)^2) = E(X^2 - 2\\mu X + \\mu^2) = E(X^2) -2\\mu E(X) + \\mu^2 \\\\\n",
    "         &= E(X^2) - \\mu^2\n",
    "\\end{align*}\n",
    "\n",
    "So for a continuous random variable,\n",
    "$$ Var(X) = \\int_{-\\infty}^\\infty x^2f(x)\\,{\\rm d}x - \\mu^2. $$"
   ]
  },
  {
   "cell_type": "markdown",
   "metadata": {
    "slideshow": {
     "slide_type": "slide"
    }
   },
   "source": [
    "## Normal Distribution: $\\;X\\sim N\\left(\\mu, \\sigma^2\\right)$\n",
    "\n",
    "- This is a very commonly arising distribution in the natural world\n",
    "\n",
    "- This ubiquity is explained by the **central limit theorem**, which relates \n",
    "  the normal to most distributions through the mean of a large number of \n",
    "  samples.\n",
    "  \n",
    " $$ f\\left(x\\,|\\,\\mu,\\sigma^2\\right) = \\frac{1}{\\sigma\\sqrt{2\\pi}} e^{-\\frac{(x-\\mu)^2}{2\\sigma^2}} $$"
   ]
  },
  {
   "cell_type": "markdown",
   "metadata": {
    "slideshow": {
     "slide_type": "slide"
    }
   },
   "source": [
    "## Evaluating a Normal Distribution\n",
    "\n",
    "Often we convert to a **standard normal** variable\n",
    "\n",
    "$$ Z = \\frac{X-\\mu}{\\sigma} $$\n",
    "\n",
    "which has pdf and cdf\n",
    "\n",
    "$$\n",
    "f(z) = \\frac{1}{\\sqrt{2\\pi}}e^{-z^2/2}\n",
    "\\qquad\\text{and}\\qquad\n",
    "F(z) = \\Phi(z) = \\frac{1}{\\sqrt{2\\pi}}\\int_{-\\infty}^z e^{-x^2/2}\\,{\\rm d}x.\n",
    "$$\n",
    "\n",
    "Tables of $\\;\\Phi(z)\\;$ may be consulted to calculate normal probabilities, or you can ask Python (or other software)."
   ]
  },
  {
   "cell_type": "markdown",
   "metadata": {
    "slideshow": {
     "slide_type": "slide"
    }
   },
   "source": [
    "## Normal Tables\n",
    "\n",
    "see https://en.wikipedia.org/wiki/Standard_normal_table"
   ]
  },
  {
   "cell_type": "markdown",
   "metadata": {
    "slideshow": {
     "slide_type": "slide"
    }
   },
   "source": [
    "## Normal distribution in Python"
   ]
  },
  {
   "cell_type": "code",
   "execution_count": null,
   "metadata": {
    "scrolled": true,
    "slideshow": {
     "slide_type": "subslide"
    }
   },
   "outputs": [],
   "source": [
    "from scipy.stats import norm\n",
    "\n",
    "z = np.linspace(norm.ppf(0.01), norm.ppf(0.99), 100)  # ppf - Percent point function (inverse of cdf — percentiles).\n",
    "\n",
    "f, (ax1, ax2) = plt.subplots(1,2,figsize=(12,4))\n",
    "ax1.plot(z, norm.pdf(z))                              # pdf - Probability distribution function\n",
    "r = norm.rvs(size=1000)                               # rvs - generate samples\n",
    "ax1.hist(r, density=True, histtype='stepfilled', alpha=0.2)\n",
    "ax1.set_xlabel('$z$')\n",
    "ax1.set_ylabel('$f(z)$');\n",
    "\n",
    "ax2.plot(z, norm.cdf(z))                              # cdf - Cumulative distribution function\n",
    "ax2.set_xlabel('$z$')\n",
    "ax2.set_ylabel('$F(z)$');"
   ]
  },
  {
   "cell_type": "markdown",
   "metadata": {
    "slideshow": {
     "slide_type": "slide"
    }
   },
   "source": [
    "## Non-standard normal distribution\n",
    "\n",
    "The `norm` probability density function is defined in the “standard” form. To shift and/or scale the distribution use the `loc` and `scale` parameters, which are equivilent to $\\;\\mu\\;$ and $\\;\\sigma\\;$ respectivly.\n",
    "\n",
    "For example, $\\;X,\\;$ $\\;Y\\;$ and $\\;Z\\;$ are distributed normally with mean 80 and standard \n",
    "deviation 5.\n",
    "\n",
    "1. What is the probability that $P(X \\le 82)$?"
   ]
  },
  {
   "cell_type": "code",
   "execution_count": null,
   "metadata": {
    "slideshow": {
     "slide_type": "-"
    }
   },
   "outputs": [],
   "source": [
    "X_loc = 80.0\n",
    "X_scale = 5.0\n",
    "norm.cdf(82.0, loc=X_loc, scale=X_scale)"
   ]
  },
  {
   "cell_type": "markdown",
   "metadata": {
    "slideshow": {
     "slide_type": "fragment"
    }
   },
   "source": [
    "2. What is the probability that $P(X \\ge 90)$?"
   ]
  },
  {
   "cell_type": "code",
   "execution_count": null,
   "metadata": {
    "slideshow": {
     "slide_type": "fragment"
    }
   },
   "outputs": [],
   "source": [
    "1.0 - norm.cdf(90.0, loc=X_loc, scale=X_scale)"
   ]
  },
  {
   "cell_type": "markdown",
   "metadata": {
    "slideshow": {
     "slide_type": "slide"
    }
   },
   "source": [
    "3. What is the probability that $P(74 \\le X \\le 82)$?"
   ]
  },
  {
   "cell_type": "code",
   "execution_count": null,
   "metadata": {
    "slideshow": {
     "slide_type": "fragment"
    }
   },
   "outputs": [],
   "source": [
    "norm.cdf(82.0, loc=X_loc, scale=X_scale) - norm.cdf(74.0, loc=X_loc, scale=X_scale)"
   ]
  },
  {
   "cell_type": "markdown",
   "metadata": {
    "slideshow": {
     "slide_type": "fragment"
    }
   },
   "source": [
    "4. What is the probability that $$\\;P\\left(\\frac{X+Y+Z}{3} \\le 82\\right)?$$"
   ]
  },
  {
   "cell_type": "code",
   "execution_count": null,
   "metadata": {
    "slideshow": {
     "slide_type": "fragment"
    }
   },
   "outputs": [],
   "source": [
    "XYZ_loc = 3.0 * X_loc / 3.0\n",
    "XYZ_scale = np.sqrt(3.0) * X_scale / 3.0\n",
    "norm.cdf(82.0, loc=XYZ_loc, scale=XYZ_scale)"
   ]
  },
  {
   "cell_type": "markdown",
   "metadata": {
    "slideshow": {
     "slide_type": "slide"
    }
   },
   "source": [
    "## More distributions:\n",
    "\n",
    "Next lecture: More distributions!"
   ]
  }
 ],
 "metadata": {
  "language_info": {
   "name": "python",
   "pygments_lexer": "ipython3"
  }
 },
 "nbformat": 4,
 "nbformat_minor": 2
}
