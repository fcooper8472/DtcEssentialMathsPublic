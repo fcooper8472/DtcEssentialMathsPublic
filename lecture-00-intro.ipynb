{
 "cells": [
  {
   "cell_type": "markdown",
   "metadata": {
    "editable": true,
    "hideCode": false,
    "hidePrompt": false,
    "slideshow": {
     "slide_type": "slide"
    },
    "tags": []
   },
   "source": [
    "# Lecture 0\n",
    "\n",
    "# Essential Maths 2024\n",
    "\n",
    "### Fergus Cooper"
   ]
  },
  {
   "cell_type": "code",
   "execution_count": null,
   "metadata": {
    "editable": true,
    "hideCode": false,
    "hidePrompt": false,
    "slideshow": {
     "slide_type": "skip"
    },
    "tags": []
   },
   "outputs": [],
   "source": [
    "import numpy as np\n",
    "\n",
    "##################################################\n",
    "##### Matplotlib boilerplate for consistency #####\n",
    "##################################################\n",
    "from ipywidgets import interact\n",
    "from ipywidgets import FloatSlider\n",
    "from matplotlib import pyplot as plt\n",
    "\n",
    "%matplotlib widget\n",
    "\n",
    "global_fig_width = 9\n",
    "global_fig_height = global_fig_width / 1.61803399\n",
    "font_size = 10\n",
    "\n",
    "plt.rcParams['axes.axisbelow'] = True\n",
    "plt.rcParams['axes.edgecolor'] = '0.8'\n",
    "plt.rcParams['axes.grid'] = True\n",
    "plt.rcParams['axes.labelpad'] = 8\n",
    "plt.rcParams['axes.linewidth'] = 2\n",
    "plt.rcParams['axes.titlepad'] = 16.0\n",
    "plt.rcParams['axes.titlesize'] = font_size * 1.4\n",
    "plt.rcParams['figure.figsize'] = (global_fig_width, global_fig_height)\n",
    "plt.rcParams['font.sans-serif'] = ['Computer Modern Sans Serif', 'DejaVu Sans', 'sans-serif']\n",
    "plt.rcParams['font.size'] = font_size\n",
    "plt.rcParams['grid.color'] = '0.8'\n",
    "plt.rcParams['grid.linestyle'] = 'dashed'\n",
    "plt.rcParams['grid.linewidth'] = 2\n",
    "plt.rcParams['lines.dash_capstyle'] = 'round'\n",
    "plt.rcParams['lines.dashed_pattern'] = [1, 4]\n",
    "plt.rcParams['xtick.labelsize'] = font_size\n",
    "plt.rcParams['xtick.major.pad'] = 4\n",
    "plt.rcParams['xtick.major.size'] = 0\n",
    "plt.rcParams['ytick.labelsize'] = font_size\n",
    "plt.rcParams['ytick.major.pad'] = 4\n",
    "plt.rcParams['ytick.major.size'] = 0\n",
    "##################################################"
   ]
  },
  {
   "cell_type": "markdown",
   "metadata": {
    "editable": true,
    "slideshow": {
     "slide_type": "slide"
    },
    "tags": []
   },
   "source": [
    "# Why Maths?\n",
    "\n",
    "Maths is the language we use to quantitatively describe the world.\n",
    "\n",
    "You are going into research, and you\n",
    "\n",
    "- **may** need to be proficient in maths as a tool for describing what you work on\n",
    "- **will** have to read and understand papers that use maths\n",
    "\n",
    "Some of you **may** feel you don't need to know any maths, but this course will be useful to you even if you never have to write down a system of differential equations yourself. "
   ]
  },
  {
   "cell_type": "markdown",
   "metadata": {
    "editable": true,
    "slideshow": {
     "slide_type": "slide"
    },
    "tags": []
   },
   "source": [
    "# Why Maths?\n",
    "\n",
    "Data analysis\n",
    "\n",
    "- Interpretation and inference\n",
    "- Identify patterns, trends, relationships\n",
    "- Deal robustly with uncertainty and variation"
   ]
  },
  {
   "cell_type": "markdown",
   "metadata": {
    "slideshow": {
     "slide_type": "subslide"
    }
   },
   "source": [
    "# Why Maths?\n",
    "\n",
    "Describe the behaviour of systems\n",
    "\n",
    "- Remove ambiguity: explicit assumptions\n",
    "- Quantitative hypotheses\n",
    "- Make predictions, through simulation and analysis\n",
    "- \"If I make this intervention, I expect to see that change\"\n",
    "- Explain **why** something is observed"
   ]
  },
  {
   "cell_type": "markdown",
   "metadata": {
    "slideshow": {
     "slide_type": "subslide"
    }
   },
   "source": [
    "# Why Maths?\n",
    "\n",
    "Vital for **dynamic** and **nonlinear** systems\n",
    "\n",
    "- Simple intuition breaks down\n",
    "- Most of biology is dynamic and nonlinear!"
   ]
  },
  {
   "cell_type": "markdown",
   "metadata": {
    "slideshow": {
     "slide_type": "slide"
    }
   },
   "source": [
    "# Course aims\n",
    "\n",
    "- Develop confidence in your mathematical abilities\n",
    "    - Extensive practice\n",
    "- Become able to communicate effectively with mathematical collaborators\n",
    "- Ensure you can read and understand mathematical papers in your field\n",
    "- Build on your ability to apply computational tools from **Python** to solve problems\n"
   ]
  },
  {
   "cell_type": "markdown",
   "metadata": {
    "slideshow": {
     "slide_type": "slide"
    }
   },
   "source": [
    "# Topics covered\n",
    "\n",
    "- Graphs, and basic tools such as logs\n",
    "- Calculus: differentiation & integration\n",
    "- Complex numbers\n",
    "- Ordinary differential equations\n",
    "- Linear algebra (matrices)\n",
    "- Coupled systems of ordinary differential equations\n",
    "- Use of Python"
   ]
  },
  {
   "cell_type": "markdown",
   "metadata": {
    "editable": true,
    "slideshow": {
     "slide_type": "slide"
    },
    "tags": []
   },
   "source": [
    "# Logistics\n",
    "\n",
    "Canvas page:\n",
    "- <https://canvas.ox.ac.uk/courses/267523>\n",
    "\n",
    "Zoom call all day every day:\n",
    "- Link and passcode on Canvas"
   ]
  },
  {
   "cell_type": "markdown",
   "metadata": {
    "editable": true,
    "slideshow": {
     "slide_type": "subslide"
    },
    "tags": []
   },
   "source": [
    "# Logistics\n",
    "\n",
    "Lectures (Live, in person)\n",
    "\n",
    "- Mornings: 9:30-10:30\n",
    "- Afternoons: 14:00-15:00\n",
    "\n",
    "Practical sessions\n",
    "\n",
    "- Mornings: 10:30-12:30\n",
    "- Afternoons: 15:00-17:00\n",
    "\n",
    "No lectures on Wednesdays."
   ]
  },
  {
   "cell_type": "markdown",
   "metadata": {
    "editable": true,
    "slideshow": {
     "slide_type": "subslide"
    },
    "tags": []
   },
   "source": [
    "# Timetable (week 1)\n",
    "\n",
    "| Date       | Time        | Content                             |\n",
    "| ---------- | ----------- | ----------------------------------- |\n",
    "| Mon 04-Nov | 09:30-12:30 | Graphs                              |\n",
    "| Mon 04-Nov | 14:00-17:00 | Indices, logs, and exponentials     |\n",
    "| Tue 05-Nov | 09:30-12:30 | Differentiation 1                   |\n",
    "| Tue 05-Nov | 14:00-17:00 | Differentiation 2                   |\n",
    "| Thu 07-Nov | 09:30-12:30 | Differentiation 3                   |\n",
    "| Thu 07-Nov | 14:00-17:00 | Integration 1                       |\n",
    "| Fri 08-Nov | 09:30-12:30 | Integration 2                       |\n",
    "| Fri 08-Nov | 14:00-17:00 | Complex numbers                     |"
   ]
  },
  {
   "cell_type": "markdown",
   "metadata": {
    "editable": true,
    "slideshow": {
     "slide_type": "subslide"
    },
    "tags": []
   },
   "source": [
    "# Timetable (week 2)\n",
    "\n",
    "| Date       | Time        | Content                             |\n",
    "| ---------- | ----------- | ----------------------------------- |\n",
    "| Mon 11-Nov | 09:30-12:30 | Differential equations 1            |\n",
    "| Mon 11-Nov | 14:00-17:00 | Differential equations 2            |\n",
    "| Tue 12-Nov | 09:30-12:30 | Differential equations 3            |\n",
    "| Tue 12-Nov | 14:00-17:00 | Linear algebra 1                    |\n",
    "| Thu 14-Nov | 09:30-12:30 | Linear algebra 2                    |\n",
    "| Thu 14-Nov | 14:00-17:00 | Systems of differential equations 1 |\n",
    "| Fri 15-Nov | 09:30-12:30 | Systems of differential equations 2 |\n",
    "| Fri 15-Nov | 14:00-17:00 | Systems of differential equations 3 |"
   ]
  },
  {
   "cell_type": "markdown",
   "metadata": {
    "editable": true,
    "slideshow": {
     "slide_type": "slide"
    },
    "tags": []
   },
   "source": [
    "# Course material\n",
    "\n",
    "<https://train.rse.ox.ac.uk/>\n",
    "\n",
    "(Demo)"
   ]
  },
  {
   "cell_type": "markdown",
   "metadata": {
    "editable": true,
    "slideshow": {
     "slide_type": "slide"
    },
    "tags": []
   },
   "source": [
    "# Exercise strategy\n",
    "\n",
    "- Don't panic if you don't complete every question!\n",
    "- Focus on understanding the concepts\n",
    "- You can use Wednesdays to consolidate the material\n",
    "\n",
    "Do help your peers, as well as using the demonstrators and lecturers who are here to help!\n",
    "\n",
    "Please let me know if you are either finding the material far too difficult, or far too easy. Both of those problems can be solved!"
   ]
  },
  {
   "cell_type": "markdown",
   "metadata": {
    "editable": true,
    "slideshow": {
     "slide_type": "slide"
    },
    "tags": []
   },
   "source": [
    "# Module assessment\n",
    "\n",
    "You will be continuously assessed through the course, based on the following criteria:\n",
    "\n",
    "- Level of engagement with the material.\n",
    "- Quality of written solutions to problem sheets.\n",
    "- Ability to confidently manipulate mathematical expressions.\n",
    "- Ability to use computational tools.\n",
    "- Course attendance.\n",
    "\n",
    "Please interact regularly with course demonstrators.\n",
    "\n",
    "At least one question from Week 2 will be submitted and assessed, but more on that next week."
   ]
  },
  {
   "cell_type": "markdown",
   "metadata": {
    "editable": true,
    "slideshow": {
     "slide_type": "slide"
    },
    "tags": []
   },
   "source": [
    "# Any questions?"
   ]
  }
 ],
 "metadata": {
  "celltoolbar": "Slideshow",
  "kernelspec": {
   "display_name": "Python 3 (ipykernel)",
   "language": "python",
   "name": "python3"
  },
  "language_info": {
   "codemirror_mode": {
    "name": "ipython",
    "version": 3
   },
   "file_extension": ".py",
   "mimetype": "text/x-python",
   "name": "python",
   "nbconvert_exporter": "python",
   "pygments_lexer": "ipython3"
  }
 },
 "nbformat": 4,
 "nbformat_minor": 4
}
