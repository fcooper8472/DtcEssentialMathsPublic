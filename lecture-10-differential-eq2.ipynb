{
 "cells": [
  {
   "cell_type": "markdown",
   "metadata": {
    "editable": true,
    "slideshow": {
     "slide_type": "slide"
    },
    "tags": []
   },
   "source": [
    "# Lecture 10\n",
    "\n",
    "## Differential Equations II:\n",
    "\n",
    "### From Words to Maths"
   ]
  },
  {
   "cell_type": "code",
   "execution_count": null,
   "metadata": {
    "editable": true,
    "slideshow": {
     "slide_type": "skip"
    },
    "tags": []
   },
   "outputs": [],
   "source": [
    "import numpy as np\n",
    "import cmath\n",
    "import sympy as sp\n",
    "import scipy.integrate\n",
    "sp.init_printing()\n",
    "\n",
    "##################################################\n",
    "##### Matplotlib boilerplate for consistency #####\n",
    "##################################################\n",
    "from ipywidgets import interact\n",
    "from ipywidgets import FloatSlider\n",
    "from ipywidgets import IntSlider\n",
    "from matplotlib import pyplot as plt\n",
    "\n",
    "%matplotlib widget\n",
    "\n",
    "global_fig_width = 9\n",
    "global_fig_height = global_fig_width / 1.61803399\n",
    "font_size = 10\n",
    "\n",
    "plt.rcParams['axes.axisbelow'] = True\n",
    "plt.rcParams['axes.edgecolor'] = '0.8'\n",
    "plt.rcParams['axes.grid'] = True\n",
    "plt.rcParams['axes.labelpad'] = 8\n",
    "plt.rcParams['axes.linewidth'] = 2\n",
    "plt.rcParams['axes.titlepad'] = 16.0\n",
    "plt.rcParams['axes.titlesize'] = font_size * 1.4\n",
    "plt.rcParams['figure.figsize'] = (global_fig_width, global_fig_height)\n",
    "plt.rcParams['font.sans-serif'] = ['Computer Modern Sans Serif', 'DejaVu Sans', 'sans-serif']\n",
    "plt.rcParams['font.size'] = font_size\n",
    "plt.rcParams['grid.color'] = '0.8'\n",
    "plt.rcParams['grid.linestyle'] = 'dashed'\n",
    "plt.rcParams['grid.linewidth'] = 2\n",
    "plt.rcParams['lines.dash_capstyle'] = 'round'\n",
    "plt.rcParams['lines.dashed_pattern'] = [1, 4]\n",
    "plt.rcParams['xtick.labelsize'] = font_size\n",
    "plt.rcParams['xtick.major.pad'] = 4\n",
    "plt.rcParams['xtick.major.size'] = 0\n",
    "plt.rcParams['ytick.labelsize'] = font_size\n",
    "plt.rcParams['ytick.major.pad'] = 4\n",
    "plt.rcParams['ytick.major.size'] = 0\n",
    "##################################################"
   ]
  },
  {
   "cell_type": "markdown",
   "metadata": {
    "editable": true,
    "slideshow": {
     "slide_type": "slide"
    },
    "tags": []
   },
   "source": [
    "## Example of forming a differential equation from words:\n",
    "\n",
    "The length $\\;y\\;$ cm of a leaf during the period of its growth is proportional to the amount of water it contains.\n",
    "During this period the leaf retains a similar shape: that is, the ratio of its length to its width remains constant.\n",
    "The leaf absorbs water from its plant at a rate proportional to $\\;y\\;$ and it loses water by evaporation at a rate proportional to the area\n",
    "of the leaf at the time when its length is $\\;y\\;$ cm.\n",
    "\n",
    "- Form a differential equation to describe the growth of the leaf."
   ]
  },
  {
   "cell_type": "markdown",
   "metadata": {
    "editable": true,
    "slideshow": {
     "slide_type": "fragment"
    },
    "tags": []
   },
   "source": [
    "1. Assume the length of the leaf is $\\;y\\;$ cm at time $\\;t\\;$ days after it was first observed."
   ]
  },
  {
   "cell_type": "markdown",
   "metadata": {
    "editable": true,
    "slideshow": {
     "slide_type": "fragment"
    },
    "tags": []
   },
   "source": [
    "2. Let the rate the leaf receives water be $\\;k_1y\\;$ where $\\;k_1\\;$ is a positive constant."
   ]
  },
  {
   "cell_type": "markdown",
   "metadata": {
    "editable": true,
    "slideshow": {
     "slide_type": "fragment"
    },
    "tags": []
   },
   "source": [
    "3. Area of leaf at time $\\;t\\;$ days is proportional to $\\;y^2\\;$ since it maintains its shape, so the leaf is losing water at a rate of $\\;k_2y^2\\;$ where $\\;k_2\\;$ is another positive constant. "
   ]
  },
  {
   "cell_type": "markdown",
   "metadata": {
    "editable": true,
    "slideshow": {
     "slide_type": "subslide"
    },
    "tags": []
   },
   "source": [
    "## Example of forming a differential equation from words:\n",
    "\n",
    "1. Assume the length of the leaf is $\\;y\\;$ cm at time $\\;t\\;$ days after it was first observed.\n",
    "2. Let the rate the leaf receives water be $\\;k_1y\\;$ where $\\;k_1\\;$ is a positive constant.\n",
    "3. Area of leaf at time $\\;t\\;$ days is proportional to $\\;y^2\\;$ since it maintains its shape, so the leaf is losing water at a rate of $\\;k_2y^2\\;$ where $\\;k_2\\;$ is another positive constant. \n"
   ]
  },
  {
   "cell_type": "markdown",
   "metadata": {
    "editable": true,
    "slideshow": {
     "slide_type": "fragment"
    },
    "tags": []
   },
   "source": [
    "4. Rate of growth is given by $\\displaystyle{ {\\rm d}y\\over {\\rm d}t}$, which is the rate of change of its length."
   ]
  },
  {
   "cell_type": "markdown",
   "metadata": {
    "editable": true,
    "slideshow": {
     "slide_type": "fragment"
    },
    "tags": []
   },
   "source": [
    "\n",
    "$${{\\rm d}y\\over {\\rm d}t}=k_1y-k_2y^2=y(k_1-k_2y)$$"
   ]
  },
  {
   "cell_type": "markdown",
   "metadata": {
    "editable": true,
    "slideshow": {
     "slide_type": "subslide"
    },
    "tags": []
   },
   "source": [
    "```python\n",
    "x = np.linspace(0,10,100)\n",
    "def dydt(y,t):\n",
    "    return k1*y - k2*y**2\n",
    "y = scipy.integrate.odeint(dydt,0.1,x)\n",
    "```"
   ]
  },
  {
   "cell_type": "code",
   "execution_count": null,
   "metadata": {
    "editable": true,
    "slideshow": {
     "slide_type": "subslide"
    },
    "tags": []
   },
   "outputs": [],
   "source": [
    "class InteractiveODESolver2:\n",
    "    def __init__(self):\n",
    "        # Create the figure and axes\n",
    "        self.fig, self.ax = plt.subplots()\n",
    "        # Hide the figure header and footer\n",
    "        self.fig.canvas.header_visible = False\n",
    "        self.fig.canvas.footer_visible = False\n",
    "\n",
    "        # Set labels and title\n",
    "        self.ax.set_xlabel('$t$')\n",
    "        self.ax.set_ylabel('$y$')\n",
    "        self.ax.set_title(r'Solution of $\\frac{dy}{dt} = k_1 y - k_2 y^2$')\n",
    "\n",
    "        # Initialize x vector\n",
    "        self.x = np.linspace(0, 10, 100)\n",
    "\n",
    "        # Initial condition\n",
    "        self.y0 = 0.1\n",
    "\n",
    "        # Initial parameters k1 and k2\n",
    "        self.k1 = 1.0\n",
    "        self.k2 = 1.0\n",
    "\n",
    "        # Solve the ODE with initial k1 and k2\n",
    "        self.y = self.solve_ode(self.k1, self.k2)\n",
    "\n",
    "        # Plot the initial solution\n",
    "        self.line, = self.ax.plot(self.x, self.y, label=f'$k_1 = {self.k1:.2f}, k_2 = {self.k2:.2f}$')\n",
    "        self.ax.legend()\n",
    "\n",
    "    def solve_ode(self, k1, k2):\n",
    "        # Define the ODE system\n",
    "        def dydx(y, x):\n",
    "            return k1 * y - k2 * y**2\n",
    "        # Solve the ODE\n",
    "        y = scipy.integrate.odeint(dydx, self.y0, self.x).flatten()\n",
    "        return y\n",
    "\n",
    "    def update(self, k1, k2):\n",
    "        # Update parameters\n",
    "        self.k1 = k1\n",
    "        self.k2 = k2\n",
    "\n",
    "        # Solve the ODE with new parameters\n",
    "        self.y = self.solve_ode(self.k1, self.k2)\n",
    "\n",
    "        # Update the line data\n",
    "        self.line.set_data(self.x, self.y)\n",
    "\n",
    "        # Update the label\n",
    "        self.line.set_label(f'$k_1 = {self.k1:.2f}, k_2 = {self.k2:.2f}$')\n",
    "        self.ax.legend()\n",
    "\n",
    "        # Rescale the y-axis to fit the new data\n",
    "        y_min, y_max = np.min(self.y), np.max(self.y)\n",
    "        if y_min == y_max:\n",
    "            y_min -= 0.1\n",
    "            y_max += 0.1\n",
    "        self.ax.set_ylim(y_min - 0.1 * abs(y_min), y_max + 0.1 * abs(y_max))\n",
    "\n",
    "        # Redraw the figure canvas\n",
    "        self.fig.canvas.draw_idle()\n",
    "\n",
    "# Create the sliders\n",
    "k1_slider = FloatSlider(value=1.0, min=0.01, max=2.0, step=0.01, continuous_update=True, description='$k_1$')\n",
    "k2_slider = FloatSlider(value=1.0, min=0.01, max=2.0, step=0.01, continuous_update=True, description='$k_2$')\n",
    "\n",
    "interactive_ode_solver2 = InteractiveODESolver2()\n",
    "interact(interactive_ode_solver2.update, k1=k1_slider, k2=k2_slider);"
   ]
  },
  {
   "cell_type": "markdown",
   "metadata": {
    "editable": true,
    "slideshow": {
     "slide_type": "slide"
    },
    "tags": []
   },
   "source": [
    "## Example 2: Solid tumour growth.\n",
    "\n",
    "An avascular tumour tends to grow in a spherical shape, depending on environmental restrictions.\n",
    "\n",
    "Assuming that the growth rate of the tumour depends only on the availability of oxygen and nutrients, which enter the tumour solely by diffusing through its surface, derive a model for the change in tumour volume over time."
   ]
  },
  {
   "cell_type": "markdown",
   "metadata": {
    "editable": true,
    "slideshow": {
     "slide_type": "fragment"
    },
    "tags": []
   },
   "source": [
    "1. Denote the volume of the tumour at time $\\;t\\;$ by $\\;V(t)\\;$, and its radius by $\\;R(t)$.\n"
   ]
  },
  {
   "cell_type": "markdown",
   "metadata": {
    "editable": true,
    "slideshow": {
     "slide_type": "fragment"
    },
    "tags": []
   },
   "source": [
    "2. Since the tumour is a sphere, its volume $\\;V\\;$ is proportional to $\\;R^3\\;$ and its surface area to $\\;R^2\\;$, so the surface area is proportional to $\\;V^{2/3}\\;$.\n"
   ]
  },
  {
   "cell_type": "markdown",
   "metadata": {
    "editable": true,
    "slideshow": {
     "slide_type": "fragment"
    },
    "tags": []
   },
   "source": [
    "3. The rate at which the tumour acquires nutrients, and hence the rate at which the volume increases, is thus proportional to $\\;V^{2/3}$.\n"
   ]
  },
  {
   "cell_type": "markdown",
   "metadata": {
    "editable": true,
    "slideshow": {
     "slide_type": "subslide"
    },
    "tags": []
   },
   "source": [
    "1. Denote the volume of the tumour at time $\\;t\\;$ by $\\;V(t)\\;$, and its radius by $\\;R(t)$.\n",
    "2. Since the tumour is a sphere, its volume $\\;V\\;$ is proportional to $\\;R^3\\;$ and its surface area to $\\;R^2\\;$, so the surface area is proportional to $\\;V^{2/3}\\;$.\n",
    "3. The rate at which the tumour acquires nutrients, and hence the rate at which the volume increases, is thus proportional to $\\;V^{2/3}$.\n"
   ]
  },
  {
   "cell_type": "markdown",
   "metadata": {
    "editable": true,
    "slideshow": {
     "slide_type": "fragment"
    },
    "tags": []
   },
   "source": [
    "This gives us the equation:\n",
    "\n",
    "$$\\frac{{\\rm d}V}{{\\rm d}t} = kV^{2/3}$$"
   ]
  },
  {
   "cell_type": "markdown",
   "metadata": {
    "editable": true,
    "slideshow": {
     "slide_type": "subslide"
    },
    "tags": []
   },
   "source": [
    "$$\\frac{{\\rm d}V}{{\\rm d}t} = kV^{2/3}$$\n",
    "\n",
    "Solve by separation of variables:\n",
    "\n",
    "$$\\int V^{-2/3}~{\\rm d}V = \\int k~{\\rm d}t$$\n",
    "\n",
    "$$V = \\left({kt+c\\over 3}\\right)^3$$\n",
    "\n",
    "where $c$ is a constant of integration, the value of which will depend upon the initial conditions."
   ]
  },
  {
   "cell_type": "code",
   "execution_count": null,
   "metadata": {
    "editable": true,
    "slideshow": {
     "slide_type": "subslide"
    },
    "tags": []
   },
   "outputs": [],
   "source": [
    "class InteractivePlot:\n",
    "    def __init__(self):\n",
    "        # Create the figure and axes\n",
    "        self.fig, self.ax = plt.subplots()\n",
    "        # Hide the figure header and footer\n",
    "        self.fig.canvas.header_visible = False\n",
    "        self.fig.canvas.footer_visible = False\n",
    "\n",
    "        # Set labels and title\n",
    "        self.ax.set_xlabel('$t$')\n",
    "        self.ax.set_ylabel('$V$')\n",
    "        self.ax.set_title('Plot of $V$ vs $t$')\n",
    "\n",
    "        # Initialize t\n",
    "        self.t = np.linspace(0, 10, 100)\n",
    "\n",
    "        # Initial parameters k and c\n",
    "        self.k = 1.0\n",
    "        self.c = 10.0\n",
    "\n",
    "        # Calculate initial v\n",
    "        self.v = ((self.k * self.t + self.c) / 3) ** 3\n",
    "\n",
    "        # Plot initial line\n",
    "        self.line, = self.ax.plot(self.t, self.v, label=f'$k = {self.k:.2f}, c = {self.c:.2f}$')\n",
    "        self.ax.legend()\n",
    "\n",
    "    def update(self, k, c):\n",
    "        # Update parameters\n",
    "        self.k = k\n",
    "        self.c = c\n",
    "\n",
    "        # Recalculate v\n",
    "        self.v = ((self.k * self.t + self.c) / 3) ** 3\n",
    "\n",
    "        # Update the line data\n",
    "        self.line.set_ydata(self.v)\n",
    "        self.line.set_label(f'$k = {self.k:.2f}, c = {self.c:.2f}$')\n",
    "        self.ax.legend()\n",
    "\n",
    "        # Rescale y-axis to fit new data\n",
    "        y_min, y_max = np.min(self.v), np.max(self.v)\n",
    "        if y_min == y_max:\n",
    "            y_min -= 0.1\n",
    "            y_max += 0.1\n",
    "        self.ax.set_ylim(y_min - 0.1 * abs(y_min), y_max + 0.1 * abs(y_max))\n",
    "\n",
    "        # Redraw the canvas\n",
    "        self.fig.canvas.draw_idle()\n",
    "\n",
    "# Create the sliders\n",
    "k_slider = FloatSlider(value=1.0, min=0.01, max=2.0, step=0.01, continuous_update=True, description='$k$')\n",
    "c_slider = FloatSlider(value=10.0, min=0.01, max=20.0, step=0.01, continuous_update=True, description='$c$')\n",
    "\n",
    "interactive_plot = InteractivePlot()\n",
    "interact(interactive_plot.update, k=k_slider, c=c_slider);"
   ]
  },
  {
   "cell_type": "markdown",
   "metadata": {
    "editable": true,
    "slideshow": {
     "slide_type": "slide"
    },
    "tags": []
   },
   "source": [
    "## Second Order Differential Equations\n",
    "\n",
    "\n",
    "**Example: Solve**  $\\quad \\displaystyle \\frac{{\\rm d}^2y}{{\\rm d}x^2} = \\left(\\frac{{\\rm d}y}{{\\rm d}x}\\right)^2$\n"
   ]
  },
  {
   "cell_type": "markdown",
   "metadata": {
    "editable": true,
    "slideshow": {
     "slide_type": "fragment"
    },
    "tags": []
   },
   "source": [
    "We will use the substitution $\\displaystyle z = \\frac{{\\rm d}y}{{\\rm d}x}$.\n",
    "This implies that $\\displaystyle \\frac{{\\rm d}z}{{\\rm d}x} = \\frac{{\\rm d}^2y}{{\\rm d}x^2}$.\n"
   ]
  },
  {
   "cell_type": "markdown",
   "metadata": {
    "editable": true,
    "slideshow": {
     "slide_type": "fragment"
    },
    "tags": []
   },
   "source": [
    "Substituting into the original equation, to eliminate $y$, gives\n",
    "\n",
    "$$\\frac{{\\rm d}z}{{\\rm d}x} = z^2$$"
   ]
  },
  {
   "cell_type": "markdown",
   "metadata": {
    "editable": true,
    "slideshow": {
     "slide_type": "subslide"
    },
    "tags": []
   },
   "source": [
    "This is a separable equation:\n",
    "\n",
    "$$\\int z^{-2}~{\\rm d}z = \\int ~{\\rm d}x \\qquad\\Rightarrow\\qquad\n",
    "  -{1\\over z} = x + A \\qquad\\Rightarrow\\qquad\n",
    "  z = -{1\\over x+A}$$\n",
    "\n",
    "where $A$ is an arbitrary constant.\n"
   ]
  },
  {
   "cell_type": "markdown",
   "metadata": {
    "editable": true,
    "slideshow": {
     "slide_type": "fragment"
    },
    "tags": []
   },
   "source": [
    "\n",
    "We can then replace $z$ using the original substitution to obtain a first order differential equation:\n",
    "$$\\frac{{\\rm d}y}{{\\rm d}x} = -{1\\over x+A} ~~~~~~~~~~~~{\\rm Equation~(9)}$$\n"
   ]
  },
  {
   "cell_type": "markdown",
   "metadata": {
    "editable": true,
    "slideshow": {
     "slide_type": "fragment"
    },
    "tags": []
   },
   "source": [
    "This equation can be solved with a standard integral:\n",
    "\n",
    "$$y = -\\ln(x+A) + B$$\n",
    "\n",
    "(how do we determine $A$ and $B$?)"
   ]
  },
  {
   "cell_type": "markdown",
   "metadata": {
    "editable": true,
    "slideshow": {
     "slide_type": "subslide"
    },
    "tags": []
   },
   "source": [
    "Example\n",
    "\n",
    "1. At $\\;x=0,\\;$ $\\;\\displaystyle \\frac{{\\rm d}y}{{\\rm d}x} = -1\\;$ and $\\;y=0\\;$.\n"
   ]
  },
  {
   "cell_type": "markdown",
   "metadata": {
    "editable": true,
    "slideshow": {
     "slide_type": "fragment"
    },
    "tags": []
   },
   "source": [
    "\n",
    "We substitute the first condition into $\\frac{{\\rm d}y}{{\\rm d}x} = -{1\\over x+A}$ to obtain $\\;A=1\\;$."
   ]
  },
  {
   "cell_type": "markdown",
   "metadata": {
    "editable": true,
    "slideshow": {
     "slide_type": "fragment"
    },
    "tags": []
   },
   "source": [
    "Then substitute $A$ and the second condition into the eventual solution\n",
    "to find $\\;B=0$."
   ]
  },
  {
   "cell_type": "markdown",
   "metadata": {
    "editable": true,
    "slideshow": {
     "slide_type": "fragment"
    },
    "tags": []
   },
   "source": [
    "2. $\\;y(0)=0\\;$ and $\\;y(e-1)=-1$."
   ]
  },
  {
   "cell_type": "markdown",
   "metadata": {
    "editable": true,
    "slideshow": {
     "slide_type": "fragment"
    },
    "tags": []
   },
   "source": [
    "This time both conditions can be substituted into the solution:\n",
    "\n",
    "$$y(0)=0 \\Rightarrow 0=B-\\ln(A) \\Rightarrow B=\\ln(A)$$\n",
    "\n",
    "$$y(e-1)=-1 \\Rightarrow -1=\\ln(A)-\\ln{e-1+A} \\Rightarrow A=1$$"
   ]
  },
  {
   "cell_type": "markdown",
   "metadata": {
    "editable": true,
    "slideshow": {
     "slide_type": "slide"
    },
    "tags": []
   },
   "source": [
    "## More tricks to do integration\n",
    "\n",
    "Let's return to and solve our leaf example:\n",
    "\n",
    "$${{\\rm d}y\\over {\\rm d}t}=k_1y-k_2y^2=y(k_1-k_2y)$$\n"
   ]
  },
  {
   "cell_type": "markdown",
   "metadata": {
    "editable": true,
    "slideshow": {
     "slide_type": "fragment"
    },
    "tags": []
   },
   "source": [
    "This is a separable differential equation: $$\\;\\displaystyle\\int {{\\rm d}y\\over \n",
    "y(k_1-k_2y)} =\\int {\\rm d}t.\\;$$"
   ]
  },
  {
   "cell_type": "markdown",
   "metadata": {
    "editable": true,
    "slideshow": {
     "slide_type": "fragment"
    },
    "tags": []
   },
   "source": [
    "We can split apart the integral on the RHS using **partial fractions** in SymPy."
   ]
  },
  {
   "cell_type": "markdown",
   "metadata": {
    "editable": true,
    "slideshow": {
     "slide_type": "subslide"
    },
    "tags": []
   },
   "source": [
    "We want $\\qquad\\displaystyle{1\\over y(k_1-k_2y)}={A\\over y}+{B\\over (k_1-k_2y)}$"
   ]
  },
  {
   "cell_type": "markdown",
   "metadata": {
    "editable": true,
    "slideshow": {
     "slide_type": "fragment"
    },
    "tags": []
   },
   "source": [
    "```python\n",
    "y, k1, k2 = sp.symbols('y k_1 k_2')\n",
    "sp.apart(1 / (y*(k1 - k2*y)),y)\n",
    "```"
   ]
  },
  {
   "cell_type": "code",
   "execution_count": null,
   "metadata": {
    "editable": true,
    "slideshow": {
     "slide_type": "fragment"
    },
    "tags": []
   },
   "outputs": [],
   "source": [
    "y, k1, k2 = sp.symbols('y k_1 k_2')\n",
    "sp.apart(1 / (y*(k1 - k2*y)),y)\n"
   ]
  },
  {
   "cell_type": "markdown",
   "metadata": {
    "editable": true,
    "slideshow": {
     "slide_type": "-"
    },
    "tags": []
   },
   "source": [
    "So $A={1\\over k_1}$ and $B={k_2\\over k_1}$."
   ]
  },
  {
   "cell_type": "markdown",
   "metadata": {
    "editable": true,
    "slideshow": {
     "slide_type": "subslide"
    },
    "tags": []
   },
   "source": [
    "$${\\rm~Thus,~~~~}\\int {{\\rm d}y\\over y(k_1-k_2y)}=\\int {{\\rm d}y\\over k_1y}+\n",
    "\\int {k_2\\over k_1(k_1-k_2y)}{\\rm d}y =\\int dt$$\n"
   ]
  },
  {
   "cell_type": "markdown",
   "metadata": {
    "editable": true,
    "slideshow": {
     "slide_type": "fragment"
    },
    "tags": []
   },
   "source": [
    "$${\\rm~Thus~~~~~~ }{1\\over k_1}\\ln y-{k_2\\over k_1k_2}\\ln(k_1-k_2y)=t + c$$\n"
   ]
  },
  {
   "cell_type": "markdown",
   "metadata": {
    "editable": true,
    "slideshow": {
     "slide_type": "fragment"
    },
    "tags": []
   },
   "source": [
    "We can get $c$ from initial conditions.\n",
    "Try doing the algebraic manipulation of this to make $y$ the subject of the equation:\n",
    "\n",
    "$$y={k_1\\exp (k_1t+d)\\over 1+ k_2 \\exp(k_1t + d)}$$\n",
    "\n",
    "where $d$ is a constant."
   ]
  }
 ],
 "metadata": {
  "celltoolbar": "Slideshow",
  "kernelspec": {
   "display_name": "Python 3 (ipykernel)",
   "language": "python",
   "name": "python3"
  },
  "language_info": {
   "codemirror_mode": {
    "name": "ipython",
    "version": 3
   },
   "file_extension": ".py",
   "mimetype": "text/x-python",
   "name": "python",
   "nbconvert_exporter": "python",
   "pygments_lexer": "ipython3"
  }
 },
 "nbformat": 4,
 "nbformat_minor": 4
}
