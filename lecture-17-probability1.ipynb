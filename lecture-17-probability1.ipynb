{
 "cells": [
  {
   "cell_type": "markdown",
   "metadata": {
    "slideshow": {
     "slide_type": "slide"
    }
   },
   "source": [
    "# Lecture 17: Probability"
   ]
  },
  {
   "cell_type": "code",
   "execution_count": null,
   "metadata": {
    "slideshow": {
     "slide_type": "skip"
    }
   },
   "outputs": [],
   "source": [
    "import numpy as np\n",
    "import sympy as sp\n",
    "import scipy.integrate\n",
    "sp.init_printing()\n",
    "##################################################\n",
    "##### Matplotlib boilerplate for consistency #####\n",
    "##################################################\n",
    "from ipywidgets import interact\n",
    "from ipywidgets import FloatSlider\n",
    "from matplotlib import pyplot as plt\n",
    "import math\n",
    "\n",
    "%matplotlib inline\n",
    "\n",
    "from IPython.display import set_matplotlib_formats\n",
    "set_matplotlib_formats('svg')\n",
    "\n",
    "global_fig_width = 10\n",
    "global_fig_height = global_fig_width / 1.61803399\n",
    "font_size = 12\n",
    "\n",
    "plt.rcParams['axes.axisbelow'] = True\n",
    "plt.rcParams['axes.edgecolor'] = '0.8'\n",
    "plt.rcParams['axes.grid'] = True\n",
    "plt.rcParams['axes.labelpad'] = 8\n",
    "plt.rcParams['axes.linewidth'] = 2\n",
    "plt.rcParams['axes.titlepad'] = 16.0\n",
    "plt.rcParams['axes.titlesize'] = font_size * 1.4\n",
    "plt.rcParams['figure.figsize'] = (global_fig_width, global_fig_height)\n",
    "plt.rcParams['font.sans-serif'] = ['Computer Modern Sans Serif', 'DejaVu Sans', 'sans-serif']\n",
    "plt.rcParams['font.size'] = font_size\n",
    "plt.rcParams['grid.color'] = '0.8'\n",
    "plt.rcParams['grid.linestyle'] = 'dashed'\n",
    "plt.rcParams['grid.linewidth'] = 2\n",
    "plt.rcParams['lines.dash_capstyle'] = 'round'\n",
    "plt.rcParams['lines.dashed_pattern'] = [1, 4]\n",
    "plt.rcParams['xtick.labelsize'] = font_size\n",
    "plt.rcParams['xtick.major.pad'] = 4\n",
    "plt.rcParams['xtick.major.size'] = 0\n",
    "plt.rcParams['ytick.labelsize'] = font_size\n",
    "plt.rcParams['ytick.major.pad'] = 4\n",
    "plt.rcParams['ytick.major.size'] = 0\n",
    "##################################################"
   ]
  },
  {
   "cell_type": "markdown",
   "metadata": {
    "slideshow": {
     "slide_type": "slide"
    }
   },
   "source": [
    "## Deterministic models\n",
    "\n",
    "- E.g. The growth of a cell colony can be modelled by the *logistic* equation\n",
    "\n",
    "$$ \\frac{{\\rm d}N}{{\\rm d}t} = rN\\left(1 - {N\\over K}\\right) $$\n",
    "\n",
    "- Only uses non-random variables, same initial contitions and parameters with give the *same results*"
   ]
  },
  {
   "cell_type": "code",
   "execution_count": null,
   "metadata": {
    "slideshow": {
     "slide_type": "skip"
    }
   },
   "outputs": [],
   "source": [
    "def logistic(ep):\n",
    "    r = 1.0\n",
    "    K = 1.0\n",
    "    n = 100\n",
    "    t = np.linspace(0,10,n)\n",
    "    def dNdt(N,t):\n",
    "        return r*N*(1-N/K)\n",
    "    N = scipy.integrate.odeint(dNdt,K/100,t).reshape(-1) + np.random.normal(0, ep, n)\n",
    "    plt.plot(t,N)\n",
    "    plt.xlabel('t')\n",
    "    plt.ylabel('N')"
   ]
  },
  {
   "cell_type": "code",
   "execution_count": null,
   "metadata": {
    "slideshow": {
     "slide_type": "-"
    }
   },
   "outputs": [],
   "source": [
    "logistic(0.0)"
   ]
  },
  {
   "cell_type": "markdown",
   "metadata": {
    "slideshow": {
     "slide_type": "slide"
    }
   },
   "source": [
    "## Probabilistic models\n",
    "\n",
    "- E.g. Logistic equation plus random variations\n",
    "\n",
    "$$ \\frac{{\\rm d}N}{{\\rm d}t} = rN\\left(1 - {N\\over K}\\right) + \\epsilon$$\n",
    "\n",
    "- $t$ is still deterministic. $N$ is a combination of deterministic and random components"
   ]
  },
  {
   "cell_type": "code",
   "execution_count": null,
   "metadata": {
    "slideshow": {
     "slide_type": "-"
    }
   },
   "outputs": [],
   "source": [
    "logistic(0.01)"
   ]
  },
  {
   "cell_type": "markdown",
   "metadata": {
    "slideshow": {
     "slide_type": "slide"
    }
   },
   "source": [
    "## Probability\n",
    "\n",
    "- Biological systems governed by deterministic physical laws, but randomness (and chaos) omnipresent\n",
    "- Probabilitiy gives a formal mathematical system for quantifying variation and reasoning with \n",
    "  uncertainty.\n",
    "- Answer questions like:\n",
    "    - \"where should I plant my crops to give the highest probability of seed germination?\"\n",
    "    - \"what is the most likely scenario of climate change in the next 100 years?\""
   ]
  },
  {
   "cell_type": "markdown",
   "metadata": {
    "slideshow": {
     "slide_type": "slide"
    }
   },
   "source": [
    "## Terminology\n",
    "\n",
    "- **Sample point, outcome** --- the outcome of a single random experiment.\n",
    "- **Event** --- an outcome (or collection of outcomes) that are of interest.\n",
    "- **Sample space** --- all possible outcomes of the experiment.\n",
    "\n",
    "e.g. A single 6-sided die:\n",
    "\n",
    "- event $R_1$: thow a one\n",
    "- event $R_2$: thow a two, etc.\n",
    "- sample space $S = \\{R_1, R_2, R_3, R_4, R_5, R_6\\}$. This set of events \n",
    "  is *exhaustive*, i.e. at least one of these events must occur"
   ]
  },
  {
   "cell_type": "markdown",
   "metadata": {
    "slideshow": {
     "slide_type": "slide"
    }
   },
   "source": [
    "## Terminology\n",
    "\n",
    "- We represent the probability that an event $\\;A\\;$ occurs by $\\;P(A)$\n",
    "\n",
    "- Think of it as the fraction of possible outcomes making up the event, assuming \n",
    "  all outcomes are equally likely.\n",
    "\n",
    "- For any event $\\;A$, $\\;0 \\le P(A) \\le 1$.\n",
    "\n",
    "- $P(A)=0\\;$ means $\\;A\\;$ is impossible; $\\;P(A)=1\\;$ means $\\;A\\;$ is certain."
   ]
  },
  {
   "cell_type": "markdown",
   "metadata": {
    "slideshow": {
     "slide_type": "slide"
    }
   },
   "source": [
    "## A single 6-sided die\n",
    "\n",
    "- The sample space $\\;S = \\{R_1, R_2, R_3, R_4, R_5, R_6\\}$. \n",
    "\n",
    "- If event $\\;A_1 = \\{\\mathrm{top~face~is~even}\\}$, $\\;P(A_1)=3/6=1/2$.\n",
    "\n",
    "- If event $\\;A_2 = \\{\\mathrm{top~face~greater~than~4}\\}$, $\\;P(A_2)=2/6=1/3$.\n",
    "\n",
    "- **Union:** $\\;P(A_1\\cup A_2)=4/6$.\n",
    "\n",
    "- **Intersection:** $\\;P(A_1\\cap A_2)=1/6$.\n",
    "\n",
    "- **Complement:** $\\;P(\\sim A_1)= P\\left(A_1^C\\right)=3/6$."
   ]
  },
  {
   "cell_type": "markdown",
   "metadata": {
    "slideshow": {
     "slide_type": "slide"
    }
   },
   "source": [
    "# Laws of probability \n",
    "\n",
    "Let us compute probabilities for complex events. They build on basic \n",
    "*axioms* that define the ground rules.\n",
    "\n",
    "1. $0\\le P(A)\\le1$\n",
    "2. $P(\\{\\})=0$\n",
    "3. $P(S)=1$\n",
    "4. If $\\;A_1, \\ldots, A_n\\;$ are *mutually exclusive* events, then $\\;P(A_1\\cup\\ldots\\cup A_n)=P(A_1)+\\ldots+P(A_n)$\n",
    "\n",
    "These imply:\n",
    "\n",
    "- From (3) and (4), $\\;P(A^C) = 1-P(A)$.\n",
    "- Addition rule: $\\;P(A\\cup B) = P(A) + P(B) - P(A\\cap B)$"
   ]
  },
  {
   "cell_type": "markdown",
   "metadata": {
    "slideshow": {
     "slide_type": "slide"
    }
   },
   "source": [
    "## Example: Six-sided die\n",
    "\n",
    "- event $\\;A_1 = \\{\\mathrm{top~face~is~even}\\} = \\{R_2, R_4, R_6 \\}$\n",
    "\n",
    "- event $\\;A_2 = \\{\\mathrm{top~face~greater~than~4}\\}= \\{R_5, R_6 \\}$.\n",
    "\n",
    "$P(A_1\\cup A_2) = P(A_1)+P(A_2)-P(A_1\\cap A_2)=3/6+2/6-1/6=4/6$."
   ]
  },
  {
   "cell_type": "markdown",
   "metadata": {
    "slideshow": {
     "slide_type": "skip"
    }
   },
   "source": [
    "## Inclusion-exclusion principle:\n",
    "\n",
    "- This generalises to the inclusion-exclusion principle:\n",
    "  \n",
    "\\begin{align*}\n",
    "    P(A_1\\cup\\ldots\\cup A_n) = &\\sum_{i=1}^nP(A_i) - \\sum_{1\\le i<j\\le \n",
    "    n} P(A_i\\cap A_j) \\\\ &+\\sum_{1\\le i<j<k\\le n} P(A_i\\cap A_j\\cap A_k)\\\\ &+ \n",
    "    \\ldots + (-1)^{n-1} P(A_1\\cap\\ldots\\cap A_n)\n",
    "    \\end{align*}"
   ]
  },
  {
   "cell_type": "markdown",
   "metadata": {
    "slideshow": {
     "slide_type": "slide"
    }
   },
   "source": [
    "## Disjoint Events\n",
    "\n",
    "Two events are *disjoint* if they cannot exist simultaineously.\n",
    "\n",
    "e.g.  \n",
    "\n",
    "- event $A_1 = \\{\\mathrm{top~face~is~even}\\} = \\{R_2, R_4, R_6 \\}$\n",
    "- event $A_3 = \\{\\mathrm{top~face~is~odd}\\} = \\{R_1, R_3, R_5 \\}$\n",
    "\n",
    "This means that:\n",
    " - $P(A_1\\cap A_3) = 0$\n",
    " - $P(A_1\\cup A_3) = P(A_1)+P(A_2)$\n"
   ]
  },
  {
   "cell_type": "markdown",
   "metadata": {
    "slideshow": {
     "slide_type": "slide"
    }
   },
   "source": [
    "## Independent Events\n",
    "\n",
    "\n",
    "Two events are *independent* if one does not affect the outcome of another.\n",
    "\n",
    "For independent events $\\;A\\;$ and $\\;B\\;$, the *joint probability* of both occurring \n",
    "is given by multiplying:\n",
    "\n",
    "$$P(A\\cap B)=P(A)\\times P(B)$$"
   ]
  },
  {
   "cell_type": "markdown",
   "metadata": {
    "slideshow": {
     "slide_type": "slide"
    }
   },
   "source": [
    "## Example: two coin tosses.\n",
    "The joint probability of the events $\\;\\{\\mathrm{first~is~tails}\\}\\;$ and $\\;\\{\\mathrm{second~is~tails}\\}\\;$\n",
    "\n",
    "$$P\\left(\\mathrm{both~tails}\\right) = 0.5 \\times 0.5 = 0.25$$\n",
    "\n",
    "This can also be used as a test for independence. Consider the previous example:\n",
    "\n",
    "$$P(A_1\\cap A_2)=1/6=1/2\\times 1/3=P(A_1)\\times P( A_2)$$"
   ]
  },
  {
   "cell_type": "markdown",
   "metadata": {
    "slideshow": {
     "slide_type": "slide"
    }
   },
   "source": [
    "When computing probabilities, often the sample points are all equally likely.\n",
    "If all sample points are equally likely, the probability of an event $\\;A\\;$ is\n",
    "\n",
    "$$P(A) = \\frac{\\rm\\#~points~in~A}{\\rm\\#~points~in~sample~space} = \\frac{|A|}{|S|}.$$\n",
    "\n",
    "The problem is how to count up the points in the event of interest. This brings us to the next topic."
   ]
  },
  {
   "cell_type": "markdown",
   "metadata": {
    "slideshow": {
     "slide_type": "slide"
    }
   },
   "source": [
    "## Permutations and Combinations\n",
    "\n",
    "- A permutation is way of selecting and ordering several objects from a group of \n",
    "  objects.\n",
    "\n",
    "- A combination is a way of selecting several objects out of a group of objects, \n",
    "  where (unlike permutations) order does not matter.\n",
    "\n",
    "- *\"with replacement\"*: use the objects in the group as many times as we \n",
    "  like\n",
    "- *\"without replacement\"*: once we have used the object, it can not be used \n",
    "  again. \n",
    "\n",
    "- *\"repetition\"*: are objects indistinguishable from each other?\n",
    "  \n",
    " <!--The reason we use the terminology replacement is because often we are \n",
    " thinking about selecting balls from an urn (as in the national lottery). In \n",
    " some situations the balls will be put back in the urn (with replacement) and in \n",
    " some cases they will not (without replacement).-->"
   ]
  },
  {
   "cell_type": "markdown",
   "metadata": {
    "slideshow": {
     "slide_type": "slide"
    }
   },
   "source": [
    "## Example: Is the lottery sampled with or without replacement?"
   ]
  },
  {
   "cell_type": "markdown",
   "metadata": {
    "slideshow": {
     "slide_type": "slide"
    }
   },
   "source": [
    "**Answer:** Since the balls are not put back the lottery is a sample *without*\n",
    "replacement."
   ]
  },
  {
   "cell_type": "markdown",
   "metadata": {
    "slideshow": {
     "slide_type": "slide"
    }
   },
   "source": [
    "## Permutations with replacement\n",
    "\n",
    "If we have $n$ distinct objects to choose from and we want to choose $r$ of them then we can do this in\n",
    "$$\\underbrace{n\\times n\\times  \\dots \\times n}_{(r\\text{~times})} = n^r$$\n",
    "ways."
   ]
  },
  {
   "cell_type": "markdown",
   "metadata": {
    "slideshow": {
     "slide_type": "fragment"
    }
   },
   "source": [
    "## Example: \n",
    "\n",
    "The litter size for domestic dogs ranges from 6 to 10 pups. How many different litter combinations (combinations of male and female pups) are possible for a litter of 6? How about 10?\n"
   ]
  },
  {
   "cell_type": "code",
   "execution_count": null,
   "metadata": {
    "slideshow": {
     "slide_type": "fragment"
    }
   },
   "outputs": [],
   "source": [
    "n = 2\n",
    "r = 6\n",
    "print('number of possible combinations for a litter of 6 =',n**r)\n",
    "r = 10\n",
    "print('number of possible combinations for a litter of 10 =',n**r)"
   ]
  },
  {
   "cell_type": "markdown",
   "metadata": {
    "slideshow": {
     "slide_type": "slide"
    }
   },
   "source": [
    "## Permutations without replacement\n",
    "\n",
    "For example, picking (numbered) pool balls from a bag.\n",
    "\n",
    "If we were to choose all $\\;n\\;$ balls (i.e. $\\;r=n\\;$) then we could do this in\n",
    "\n",
    "$$n\\times (n-1)\\times (n-2)\\times \\dots 3\\times 2\\times 1=n!$$\n",
    "\n",
    "ways.\n",
    "\n",
    "However, if we are only choosing the first $\\;r<n\\;$ balls:\n",
    "\n",
    "$$n\\times (n-1)\\times (n-2)\\times\\dots (n-r+1) = {}_nP_r = n!/(n-r)!$$\n",
    "\n",
    "ways. \n",
    "\n",
    "- $_nP_r\\;$ is the notation we use for permuting $\\;r\\;$ objects from a possible $\\;n$\n",
    "- It is often pronounced \"$n$ perm $r$\""
   ]
  },
  {
   "cell_type": "markdown",
   "metadata": {
    "slideshow": {
     "slide_type": "slide"
    }
   },
   "source": [
    "## Example:\n",
    "\n",
    "There are 16 numbered pool balls in a bag (including the cue ball which can be \n",
    "thought of as number 0). How many distinct ways can you choose three balls if \n",
    "they are not returned to the bag."
   ]
  },
  {
   "cell_type": "code",
   "execution_count": null,
   "metadata": {
    "slideshow": {
     "slide_type": "fragment"
    }
   },
   "outputs": [],
   "source": [
    "n = 16\n",
    "r = 3\n",
    "print('number of distinct ways to choose 3 pool balls from a bag of 16 = %d' % (math.factorial(n)/math.factorial(n-r)))"
   ]
  },
  {
   "cell_type": "markdown",
   "metadata": {
    "slideshow": {
     "slide_type": "slide"
    }
   },
   "source": [
    "## Permutations with repetition\n",
    "\n",
    "In this context repetition means that some of the objects we are arranging are identical.\n",
    "\n",
    "### Example: \n",
    "\n",
    "How many distinct ways are there of arranging the letters of the word TOMATO?"
   ]
  },
  {
   "cell_type": "markdown",
   "metadata": {
    "slideshow": {
     "slide_type": "fragment"
    }
   },
   "source": [
    "**Answer:** $n=6$, $r=6$. \n",
    "- If there were no repetitions then there would be $\\;n!/(n-r)!=6!/0!=6!$  \n",
    "- However, since we have 2 Ts and 2 Os, some of our combinations will be \n",
    "  redundant.\n",
    "- number of ways we can arrange 2 Ts ($2!$) and the number of ways we can \n",
    "  arrange 2 Os ($2!$). \n",
    "- So the number of redundant arrangements is $\\;2!\\times2!$. \n",
    "- So the number of distinct arrangements of the word TOMATO is $\\;6!/(2!\\times2!)=180$."
   ]
  },
  {
   "cell_type": "markdown",
   "metadata": {
    "slideshow": {
     "slide_type": "slide"
    }
   },
   "source": [
    "## Combinations without replacement\n",
    "\n",
    "Number of combinations of size $\\;r\\;$ from $\\;n\\;$ distinct objects (which is often \n",
    "written $\\;_nC_r\\;$ and pronounced \"$n$ choose $r$\")\n",
    "\n",
    "- The number of permutations of size $\\;r\\;$ from $\\;n\\;$ objects is given by \n",
    "  $\\;_nP_r=n!/(n-r)!$, \n",
    "- but now that we don't care about order. We need to divide this number by $r!$ \n",
    "  to find the number of combinations:\n",
    "\n",
    "$$_nC_r=\\frac{n!}{(n-r)!r!}.$$\n",
    "\n",
    "$_nC_r\\;$ is often written using \"big bracket\" notation, also known as the \n",
    "binomial coefficient:\n",
    "\n",
    "$${{n}\\choose{r}}$$"
   ]
  },
  {
   "cell_type": "markdown",
   "metadata": {
    "slideshow": {
     "slide_type": "slide"
    }
   },
   "source": [
    "## Example:\n",
    "\n",
    "From a bag of 16 pool balls, how many combinations of 3 balls are there? How \n",
    "many combinations of 13 balls are there?"
   ]
  },
  {
   "cell_type": "markdown",
   "metadata": {
    "slideshow": {
     "slide_type": "fragment"
    }
   },
   "source": [
    "$$_nC_r=\\frac{n!}{(n-r)!r!}.$$"
   ]
  },
  {
   "cell_type": "code",
   "execution_count": null,
   "metadata": {
    "slideshow": {
     "slide_type": "fragment"
    }
   },
   "outputs": [],
   "source": [
    "n = 16\n",
    "r = 3\n",
    "print('number of combinations of 3 balls = %d' % (math.factorial(n)/math.factorial(n-r)/math.factorial(r)))\n",
    "r = 13\n",
    "print('number of combinations of 13 balls = %d' % (math.factorial(n)/math.factorial(n-r)/math.factorial(r)))"
   ]
  },
  {
   "cell_type": "markdown",
   "metadata": {
    "slideshow": {
     "slide_type": "slide"
    }
   },
   "source": [
    "## Example:\n",
    "\n",
    "How many litters of 5 puppies can you have with 2 female?"
   ]
  },
  {
   "cell_type": "code",
   "execution_count": null,
   "metadata": {
    "slideshow": {
     "slide_type": "fragment"
    }
   },
   "outputs": [],
   "source": [
    "n = 5\n",
    "r = n-2\n",
    "print('number of litters = %d' % (math.factorial(n)/math.factorial(n-r)/math.factorial(r)))\n",
    "#or\n",
    "r = 2\n",
    "print('number of litters = %d' % (math.factorial(n)/math.factorial(n-r)/math.factorial(r)))"
   ]
  },
  {
   "cell_type": "markdown",
   "metadata": {
    "slideshow": {
     "slide_type": "slide"
    }
   },
   "source": [
    "## Combinations with replacement (FYI, not in the exercise sheet)\n",
    "\n",
    "This time we are trying to select $r$ objects from a possible $n$ distinct objects, but now we can select each object more than once."
   ]
  },
  {
   "cell_type": "markdown",
   "metadata": {
    "slideshow": {
     "slide_type": "slide"
    }
   },
   "source": [
    "- We can reformulate this problem and imagine that we have $\\;r\\;$ identical balls \n",
    "  to place in $\\;n\\;$ distinct boxes. \n",
    "\n",
    "- We let 0s represent putting a ball in a box and 1s represent moving from one \n",
    "  box to the next then we can represent any such combination as a series of $\\;r\\;$ \n",
    "  0s and $\\;n-1\\;$ 1s. Note we have $\\;n-1\\;$ 1s since we only have to move $\\;n-1\\;$ times to get between the $\\;n\\;$ boxes.\n",
    "\n",
    "- Essentially we have reduced the problem to one of choosing how to position the \n",
    "  0s in our series of 0s and 1s. "
   ]
  },
  {
   "cell_type": "markdown",
   "metadata": {
    "slideshow": {
     "slide_type": "slide"
    }
   },
   "source": [
    "## Example:\n",
    "You're choosing dessert at a restaurant. You've decided on ice cream. There are \n",
    "five flavours of ice cream: banana, chocolate, lemon, strawberry and vanilla. \n",
    "You can have three scoops. How many possible deserts can you choose from?\n",
    "\n",
    "- \\{B, C, L, S, V\\}\n",
    "\n",
    "- We represent \\{C,C,C\\} as \\{1, 0, 0, 0, 1, 1, 1\\}\n",
    "\n",
    "- We represent \\{C,C,S\\} as \\{1, 0, 0, 1, 1, 0, 1\\}\n",
    "\n",
    "So we simply need to choose $\\;r\\;$ 0s from a list of length $\\;r+n-1$."
   ]
  },
  {
   "cell_type": "markdown",
   "metadata": {
    "slideshow": {
     "slide_type": "slide"
    }
   },
   "source": [
    "This is the problem of permuting $n+r-1$ objects (the total number of 0s and 1s) \n",
    "of two different types: $r$ 0s and $n-1$ 1s. \n",
    "\n",
    "Recalling the formula:\n",
    "\n",
    "$$ {}_{n+r-1}C_r = {{r + n - 1}\\choose{r}} = \\frac{(n+r-1)!}{r!(n-1)!} $$\n",
    "\n",
    "Again since this formula is symmetric we realise that the problem of choosing which balls to put into which boxes (i.e. the positioning of the 0s) is the same as the problem of deciding when to move between boxes (i.e. positioning the 1s)."
   ]
  },
  {
   "cell_type": "markdown",
   "metadata": {
    "slideshow": {
     "slide_type": "fragment"
    }
   },
   "source": [
    "**Answer:** $_{5+3-1}C_3=7!/(3!\\times4!)=35$."
   ]
  }
 ],
 "metadata": {
  "language_info": {
   "name": "python",
   "pygments_lexer": "ipython3"
  }
 },
 "nbformat": 4,
 "nbformat_minor": 2
}
